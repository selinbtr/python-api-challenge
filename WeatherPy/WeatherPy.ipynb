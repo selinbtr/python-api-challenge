{
 "cells": [
  {
   "cell_type": "markdown",
   "metadata": {},
   "source": [
    "# WeatherPy\n",
    "----\n",
    "\n",
    "#### Note\n",
    "* Instructions have been included for each segment. You do not have to follow them exactly, but they are included to help you think through the steps."
   ]
  },
  {
   "cell_type": "code",
   "execution_count": 160,
   "metadata": {
    "scrolled": true
   },
   "outputs": [],
   "source": [
    "# pip install citipy\n",
    "# Dependencies and Setup\n",
    "import matplotlib.pyplot as plt\n",
    "import pandas as pd\n",
    "import numpy as np\n",
    "import requests\n",
    "import json\n",
    "import time\n",
    "from scipy.stats import linregress\n",
    "\n",
    "# Import API key\n",
    "from api_keys import weather_api_key\n",
    "\n",
    "# Incorporated citipy to determine city based on latitude and longitude\n",
    "from citipy import citipy\n",
    "\n",
    "# Output File (CSV)\n",
    "#output_data_file=pd.read_csv(\"../output_data/cities.csv\")\n",
    "\n",
    "# Range of latitudes and longitudes\n",
    "lat_range = (-90, 90)\n",
    "lng_range = (-180, 180)"
   ]
  },
  {
   "cell_type": "code",
   "execution_count": 131,
   "metadata": {},
   "outputs": [
    {
     "data": {
      "text/html": [
       "<div>\n",
       "<style scoped>\n",
       "    .dataframe tbody tr th:only-of-type {\n",
       "        vertical-align: middle;\n",
       "    }\n",
       "\n",
       "    .dataframe tbody tr th {\n",
       "        vertical-align: top;\n",
       "    }\n",
       "\n",
       "    .dataframe thead th {\n",
       "        text-align: right;\n",
       "    }\n",
       "</style>\n",
       "<table border=\"1\" class=\"dataframe\">\n",
       "  <thead>\n",
       "    <tr style=\"text-align: right;\">\n",
       "      <th></th>\n",
       "      <th>City_ID</th>\n",
       "      <th>City</th>\n",
       "      <th>Cloudiness</th>\n",
       "      <th>Country</th>\n",
       "      <th>Date</th>\n",
       "      <th>Humidity</th>\n",
       "      <th>Lat</th>\n",
       "      <th>Lng</th>\n",
       "      <th>Max Temp</th>\n",
       "      <th>Wind Speed</th>\n",
       "    </tr>\n",
       "  </thead>\n",
       "  <tbody>\n",
       "    <tr>\n",
       "      <td>0</td>\n",
       "      <td>0</td>\n",
       "      <td>ostrovnoy</td>\n",
       "      <td>2</td>\n",
       "      <td>RU</td>\n",
       "      <td>1558378754</td>\n",
       "      <td>72</td>\n",
       "      <td>68.05</td>\n",
       "      <td>39.51</td>\n",
       "      <td>37.50</td>\n",
       "      <td>7.16</td>\n",
       "    </tr>\n",
       "    <tr>\n",
       "      <td>1</td>\n",
       "      <td>1</td>\n",
       "      <td>mahebourg</td>\n",
       "      <td>75</td>\n",
       "      <td>MU</td>\n",
       "      <td>1558378503</td>\n",
       "      <td>74</td>\n",
       "      <td>-20.41</td>\n",
       "      <td>57.70</td>\n",
       "      <td>78.80</td>\n",
       "      <td>11.41</td>\n",
       "    </tr>\n",
       "    <tr>\n",
       "      <td>2</td>\n",
       "      <td>2</td>\n",
       "      <td>qaanaaq</td>\n",
       "      <td>25</td>\n",
       "      <td>GL</td>\n",
       "      <td>1558378755</td>\n",
       "      <td>73</td>\n",
       "      <td>77.48</td>\n",
       "      <td>-69.36</td>\n",
       "      <td>22.20</td>\n",
       "      <td>2.37</td>\n",
       "    </tr>\n",
       "    <tr>\n",
       "      <td>3</td>\n",
       "      <td>3</td>\n",
       "      <td>zhuhai</td>\n",
       "      <td>0</td>\n",
       "      <td>CN</td>\n",
       "      <td>1558378755</td>\n",
       "      <td>39</td>\n",
       "      <td>40.71</td>\n",
       "      <td>112.04</td>\n",
       "      <td>44.60</td>\n",
       "      <td>4.47</td>\n",
       "    </tr>\n",
       "    <tr>\n",
       "      <td>4</td>\n",
       "      <td>4</td>\n",
       "      <td>cape town</td>\n",
       "      <td>20</td>\n",
       "      <td>ZA</td>\n",
       "      <td>1558378755</td>\n",
       "      <td>76</td>\n",
       "      <td>-33.93</td>\n",
       "      <td>18.42</td>\n",
       "      <td>55.99</td>\n",
       "      <td>8.05</td>\n",
       "    </tr>\n",
       "  </tbody>\n",
       "</table>\n",
       "</div>"
      ],
      "text/plain": [
       "   City_ID       City  Cloudiness Country        Date  Humidity    Lat  \\\n",
       "0        0  ostrovnoy           2      RU  1558378754        72  68.05   \n",
       "1        1  mahebourg          75      MU  1558378503        74 -20.41   \n",
       "2        2    qaanaaq          25      GL  1558378755        73  77.48   \n",
       "3        3     zhuhai           0      CN  1558378755        39  40.71   \n",
       "4        4  cape town          20      ZA  1558378755        76 -33.93   \n",
       "\n",
       "      Lng  Max Temp  Wind Speed  \n",
       "0   39.51     37.50        7.16  \n",
       "1   57.70     78.80       11.41  \n",
       "2  -69.36     22.20        2.37  \n",
       "3  112.04     44.60        4.47  \n",
       "4   18.42     55.99        8.05  "
      ]
     },
     "execution_count": 131,
     "metadata": {},
     "output_type": "execute_result"
    }
   ],
   "source": [
    "#As a reference, how the output data looks like:\n",
    "output_data_file.head()"
   ]
  },
  {
   "cell_type": "markdown",
   "metadata": {},
   "source": [
    "## Generate Cities List"
   ]
  },
  {
   "cell_type": "code",
   "execution_count": 161,
   "metadata": {},
   "outputs": [
    {
     "data": {
      "text/plain": [
       "621"
      ]
     },
     "execution_count": 161,
     "metadata": {},
     "output_type": "execute_result"
    }
   ],
   "source": [
    "# List for holding lat_lngs and cities\n",
    "lat_lngs = []\n",
    "cities = []\n",
    "\n",
    "# Create a set of random lat and lng combinations\n",
    "lats = np.random.uniform(low=-90.000, high=90.000, size=1500)\n",
    "lngs = np.random.uniform(low=-180.000, high=180.000, size=1500)\n",
    "lat_lngs = zip(lats, lngs)\n",
    "\n",
    "# Identify nearest city for each lat, lng combination\n",
    "for lat_lng in lat_lngs:\n",
    "    city = citipy.nearest_city(lat_lng[0], lat_lng[1]).city_name\n",
    "    \n",
    "    # If the city is unique, then add it to a our cities list\n",
    "    if city not in cities:\n",
    "        cities.append(city)\n",
    "\n",
    "# Print the city count to confirm sufficient count\n",
    "len(cities)"
   ]
  },
  {
   "cell_type": "markdown",
   "metadata": {},
   "source": [
    "### Perform API Calls\n",
    "* Perform a weather check on each city using a series of successive API calls.\n",
    "* Include a print log of each city as it'sbeing processed (with the city number and city name).\n"
   ]
  },
  {
   "cell_type": "code",
   "execution_count": 162,
   "metadata": {},
   "outputs": [
    {
     "data": {
      "text/html": [
       "<div>\n",
       "<style scoped>\n",
       "    .dataframe tbody tr th:only-of-type {\n",
       "        vertical-align: middle;\n",
       "    }\n",
       "\n",
       "    .dataframe tbody tr th {\n",
       "        vertical-align: top;\n",
       "    }\n",
       "\n",
       "    .dataframe thead th {\n",
       "        text-align: right;\n",
       "    }\n",
       "</style>\n",
       "<table border=\"1\" class=\"dataframe\">\n",
       "  <thead>\n",
       "    <tr style=\"text-align: right;\">\n",
       "      <th></th>\n",
       "      <th>City</th>\n",
       "      <th>Cloudiness</th>\n",
       "      <th>Country</th>\n",
       "      <th>Date</th>\n",
       "      <th>Humidity</th>\n",
       "      <th>Lat</th>\n",
       "      <th>Lng</th>\n",
       "      <th>Max Temp</th>\n",
       "      <th>Wind Speed</th>\n",
       "    </tr>\n",
       "  </thead>\n",
       "  <tbody>\n",
       "    <tr>\n",
       "      <td>0</td>\n",
       "      <td>rikitea</td>\n",
       "      <td></td>\n",
       "      <td></td>\n",
       "      <td></td>\n",
       "      <td></td>\n",
       "      <td></td>\n",
       "      <td></td>\n",
       "      <td></td>\n",
       "      <td></td>\n",
       "    </tr>\n",
       "    <tr>\n",
       "      <td>1</td>\n",
       "      <td>ishigaki</td>\n",
       "      <td></td>\n",
       "      <td></td>\n",
       "      <td></td>\n",
       "      <td></td>\n",
       "      <td></td>\n",
       "      <td></td>\n",
       "      <td></td>\n",
       "      <td></td>\n",
       "    </tr>\n",
       "    <tr>\n",
       "      <td>2</td>\n",
       "      <td>clyde river</td>\n",
       "      <td></td>\n",
       "      <td></td>\n",
       "      <td></td>\n",
       "      <td></td>\n",
       "      <td></td>\n",
       "      <td></td>\n",
       "      <td></td>\n",
       "      <td></td>\n",
       "    </tr>\n",
       "    <tr>\n",
       "      <td>3</td>\n",
       "      <td>port elizabeth</td>\n",
       "      <td></td>\n",
       "      <td></td>\n",
       "      <td></td>\n",
       "      <td></td>\n",
       "      <td></td>\n",
       "      <td></td>\n",
       "      <td></td>\n",
       "      <td></td>\n",
       "    </tr>\n",
       "    <tr>\n",
       "      <td>4</td>\n",
       "      <td>ushuaia</td>\n",
       "      <td></td>\n",
       "      <td></td>\n",
       "      <td></td>\n",
       "      <td></td>\n",
       "      <td></td>\n",
       "      <td></td>\n",
       "      <td></td>\n",
       "      <td></td>\n",
       "    </tr>\n",
       "  </tbody>\n",
       "</table>\n",
       "</div>"
      ],
      "text/plain": [
       "             City Cloudiness Country Date Humidity Lat Lng Max Temp Wind Speed\n",
       "0         rikitea                                                             \n",
       "1        ishigaki                                                             \n",
       "2     clyde river                                                             \n",
       "3  port elizabeth                                                             \n",
       "4         ushuaia                                                             "
      ]
     },
     "execution_count": 162,
     "metadata": {},
     "output_type": "execute_result"
    }
   ],
   "source": [
    "#Creating a dataframe with city names\n",
    "df=pd.DataFrame({\"City\":cities})\n",
    "df[\"Cloudiness\"]=\"\"\n",
    "df[\"Country\"]=\"\"\n",
    "df[\"Date\"]=\"\"\n",
    "df[\"Humidity\"]=\"\"\n",
    "df[\"Lat\"]=\"\"\n",
    "df[\"Lng\"]=\"\"\n",
    "df[\"Max Temp\"]=\"\"\n",
    "df[\"Wind Speed\"]=\"\"\n",
    "df.head()"
   ]
  },
  {
   "cell_type": "code",
   "execution_count": 100,
   "metadata": {},
   "outputs": [
    {
     "name": "stdout",
     "output_type": "stream",
     "text": [
      "Retrieving Results for Index 0: chokwe.\n",
      "Retrieving Results for Index 1: richards bay.\n",
      "Retrieving Results for Index 2: rikitea.\n",
      "Retrieving Results for Index 3: bar harbor.\n",
      "Retrieving Results for Index 4: helena.\n",
      "Retrieving Results for Index 5: lisakovsk.\n",
      "Retrieving Results for Index 6: belushya guba.\n",
      "Retrieving Results for Index 7: ushuaia.\n",
      "Retrieving Results for Index 8: yumen.\n",
      "Retrieving Results for Index 9: suatu.\n",
      "Retrieving Results for Index 10: mana.\n",
      "Retrieving Results for Index 11: busselton.\n",
      "Retrieving Results for Index 12: morehead.\n",
      "Retrieving Results for Index 13: lorengau.\n",
      "Retrieving Results for Index 14: butaritari.\n",
      "Retrieving Results for Index 15: souillac.\n",
      "Retrieving Results for Index 16: vaini.\n",
      "Retrieving Results for Index 17: atuona.\n",
      "Retrieving Results for Index 18: talnakh.\n",
      "Retrieving Results for Index 19: pakhtakoron.\n",
      "Retrieving Results for Index 20: punta arenas.\n",
      "Retrieving Results for Index 21: sabha.\n",
      "Retrieving Results for Index 22: new norfolk.\n",
      "Retrieving Results for Index 23: bethel.\n",
      "Retrieving Results for Index 24: asyut.\n",
      "Retrieving Results for Index 25: pisco.\n",
      "Retrieving Results for Index 26: deniliquin.\n",
      "Retrieving Results for Index 27: torbay.\n",
      "Retrieving Results for Index 28: mar del plata.\n",
      "Retrieving Results for Index 29: himora.\n",
      "Retrieving Results for Index 30: arraial do cabo.\n",
      "Retrieving Results for Index 31: gbarnga.\n",
      "Retrieving Results for Index 32: broome.\n",
      "Retrieving Results for Index 33: illoqqortoormiut.\n",
      "Retrieving Results for Index 34: lieksa.\n",
      "Retrieving Results for Index 35: dudinka.\n",
      "Retrieving Results for Index 36: taolanaro.\n",
      "Retrieving Results for Index 37: tuktoyaktuk.\n",
      "Retrieving Results for Index 38: georgetown.\n",
      "Retrieving Results for Index 39: portland.\n",
      "Retrieving Results for Index 40: yellowknife.\n",
      "Retrieving Results for Index 41: wanaka.\n",
      "Retrieving Results for Index 42: albany.\n",
      "Retrieving Results for Index 43: ituporanga.\n",
      "Retrieving Results for Index 44: nemuro.\n",
      "Retrieving Results for Index 45: amazar.\n",
      "Retrieving Results for Index 46: bluff.\n",
      "Retrieving Results for Index 47: sembakung.\n",
      "Retrieving Results for Index 48: road town.\n",
      "Retrieving Results for Index 49: kapit.\n",
      "Retrieving Results for Index 50: carnarvon.\n",
      "Retrieving Results for Index 51: mys shmidta.\n",
      "Retrieving Results for Index 52: hasanabad.\n",
      "Retrieving Results for Index 53: fort saint james.\n",
      "Retrieving Results for Index 54: saint-philippe.\n",
      "Retrieving Results for Index 55: new iberia.\n",
      "Retrieving Results for Index 56: antalaha.\n",
      "Retrieving Results for Index 57: mutsamudu.\n",
      "Retrieving Results for Index 58: tasiilaq.\n",
      "Retrieving Results for Index 59: nizhneyansk.\n",
      "Retrieving Results for Index 60: comodoro rivadavia.\n",
      "Retrieving Results for Index 61: longyearbyen.\n",
      "Retrieving Results for Index 62: concordia.\n",
      "Retrieving Results for Index 63: east london.\n",
      "Retrieving Results for Index 64: hobart.\n",
      "Retrieving Results for Index 65: qaanaaq.\n",
      "Retrieving Results for Index 66: zhangjiakou.\n",
      "Retrieving Results for Index 67: maceio.\n",
      "Retrieving Results for Index 68: avarua.\n",
      "Retrieving Results for Index 69: brewster.\n",
      "Retrieving Results for Index 70: barrow.\n",
      "Retrieving Results for Index 71: tsihombe.\n",
      "Retrieving Results for Index 72: saint-georges.\n",
      "Retrieving Results for Index 73: jamestown.\n",
      "Retrieving Results for Index 74: kiunga.\n",
      "Retrieving Results for Index 75: kapaa.\n",
      "Retrieving Results for Index 76: mitsamiouli.\n",
      "Retrieving Results for Index 77: honiara.\n",
      "Retrieving Results for Index 78: kavaratti.\n",
      "Retrieving Results for Index 79: vostok.\n",
      "Retrieving Results for Index 80: pevek.\n",
      "Retrieving Results for Index 81: mataura.\n",
      "Retrieving Results for Index 82: ajdabiya.\n",
      "Retrieving Results for Index 83: san joaquin.\n",
      "Retrieving Results for Index 84: iquitos.\n",
      "Retrieving Results for Index 85: calvinia.\n",
      "Retrieving Results for Index 86: teguldet.\n",
      "Retrieving Results for Index 87: vila.\n",
      "Retrieving Results for Index 88: castro.\n",
      "Retrieving Results for Index 89: aykhal.\n",
      "Retrieving Results for Index 90: bredasdorp.\n",
      "Retrieving Results for Index 91: sorland.\n",
      "Retrieving Results for Index 92: chokurdakh.\n",
      "Retrieving Results for Index 93: nacala.\n",
      "Retrieving Results for Index 94: chuy.\n",
      "Retrieving Results for Index 95: labuan.\n",
      "Retrieving Results for Index 96: tumannyy.\n",
      "Retrieving Results for Index 97: kodiak.\n",
      "Retrieving Results for Index 98: tocopilla.\n",
      "Retrieving Results for Index 99: saleaula.\n",
      "Retrieving Results for Index 100: khatanga.\n",
      "Retrieving Results for Index 101: morondava.\n",
      "Retrieving Results for Index 102: maniitsoq.\n",
      "Retrieving Results for Index 103: virginia beach.\n",
      "Retrieving Results for Index 104: port alfred.\n",
      "Retrieving Results for Index 105: birin.\n",
      "Retrieving Results for Index 106: dwarka.\n",
      "Retrieving Results for Index 107: palabuhanratu.\n",
      "Retrieving Results for Index 108: namatanai.\n",
      "Retrieving Results for Index 109: college.\n",
      "Retrieving Results for Index 110: hithadhoo.\n",
      "Retrieving Results for Index 111: katobu.\n",
      "Retrieving Results for Index 112: port hardy.\n",
      "Retrieving Results for Index 113: sur.\n",
      "Retrieving Results for Index 114: lompoc.\n",
      "Retrieving Results for Index 115: shenjiamen.\n",
      "Retrieving Results for Index 116: attawapiskat.\n",
      "Retrieving Results for Index 117: basco.\n",
      "Retrieving Results for Index 118: bengkulu.\n",
      "Retrieving Results for Index 119: saskylakh.\n",
      "Missing field/result... skipping\n",
      "Retrieving Results for Index 120: sembe.\n",
      "Retrieving Results for Index 121: young.\n",
      "Retrieving Results for Index 122: san fernando.\n",
      "Retrieving Results for Index 123: ust-nera.\n",
      "Retrieving Results for Index 124: saint george.\n",
      "Retrieving Results for Index 125: boguchany.\n",
      "Retrieving Results for Index 126: sao joao da barra.\n",
      "Retrieving Results for Index 127: kawhia.\n",
      "Retrieving Results for Index 128: sobolevo.\n",
      "Retrieving Results for Index 129: ghanzi.\n",
      "Retrieving Results for Index 130: hermanus.\n",
      "Retrieving Results for Index 131: starokostyantyniv.\n",
      "Retrieving Results for Index 132: paradwip.\n",
      "Retrieving Results for Index 133: avera.\n",
      "Retrieving Results for Index 134: barentsburg.\n",
      "Retrieving Results for Index 135: cape town.\n",
      "Retrieving Results for Index 136: moron.\n",
      "Retrieving Results for Index 137: iskele.\n",
      "Retrieving Results for Index 138: inverell.\n",
      "Retrieving Results for Index 139: tambopata.\n",
      "Retrieving Results for Index 140: tuatapere.\n",
      "Retrieving Results for Index 141: vardo.\n",
      "Retrieving Results for Index 142: kahului.\n",
      "Retrieving Results for Index 143: grand river south east.\n",
      "Retrieving Results for Index 144: hilo.\n",
      "Retrieving Results for Index 145: barcelos.\n",
      "Retrieving Results for Index 146: cidreira.\n",
      "Retrieving Results for Index 147: ambilobe.\n",
      "Retrieving Results for Index 148: bac lieu.\n",
      "Retrieving Results for Index 149: hommersak.\n",
      "Retrieving Results for Index 150: santa cruz.\n",
      "Retrieving Results for Index 151: mayo.\n",
      "Retrieving Results for Index 152: ancud.\n",
      "Retrieving Results for Index 153: leningradskiy.\n",
      "Retrieving Results for Index 154: kashan.\n",
      "Retrieving Results for Index 155: domoni.\n",
      "Retrieving Results for Index 156: ilinsko-podomskoye.\n",
      "Retrieving Results for Index 157: itacare.\n",
      "Retrieving Results for Index 158: moundou.\n",
      "Retrieving Results for Index 159: naze.\n",
      "Retrieving Results for Index 160: hasaki.\n",
      "Retrieving Results for Index 161: gurskoye.\n",
      "Retrieving Results for Index 162: hami.\n",
      "Retrieving Results for Index 163: pacific grove.\n",
      "Retrieving Results for Index 164: kaposmero.\n",
      "Retrieving Results for Index 165: bonavista.\n",
      "Retrieving Results for Index 166: ciudad bolivar.\n",
      "Retrieving Results for Index 167: amravati.\n",
      "Retrieving Results for Index 168: xining.\n",
      "Retrieving Results for Index 169: rivera.\n",
      "Retrieving Results for Index 170: ruatoria.\n",
      "Retrieving Results for Index 171: mount gambier.\n",
      "Retrieving Results for Index 172: evensk.\n",
      "Retrieving Results for Index 173: fortuna foothills.\n",
      "Retrieving Results for Index 174: bathsheba.\n",
      "Retrieving Results for Index 175: bayji.\n",
      "Retrieving Results for Index 176: vokhma.\n",
      "Retrieving Results for Index 177: atar.\n",
      "Retrieving Results for Index 178: puerto ayora.\n",
      "Retrieving Results for Index 179: olafsvik.\n",
      "Retrieving Results for Index 180: ponta do sol.\n",
      "Retrieving Results for Index 181: fundacion.\n",
      "Retrieving Results for Index 182: axim.\n",
      "Retrieving Results for Index 183: kaoma.\n",
      "Retrieving Results for Index 184: thompson.\n",
      "Retrieving Results for Index 185: carutapera.\n",
      "Retrieving Results for Index 186: san luis.\n",
      "Retrieving Results for Index 187: gerede.\n"
     ]
    },
    {
     "name": "stdout",
     "output_type": "stream",
     "text": [
      "Retrieving Results for Index 188: vaitupu.\n",
      "Retrieving Results for Index 189: cherdyn.\n",
      "Retrieving Results for Index 190: makakilo city.\n",
      "Retrieving Results for Index 191: rocha.\n",
      "Retrieving Results for Index 192: saldanha.\n",
      "Retrieving Results for Index 193: victoria.\n",
      "Retrieving Results for Index 194: ahipara.\n",
      "Retrieving Results for Index 195: luwuk.\n",
      "Retrieving Results for Index 196: amapa.\n",
      "Retrieving Results for Index 197: nikolskoye.\n",
      "Retrieving Results for Index 198: alakurtti.\n",
      "Retrieving Results for Index 199: palmerston.\n",
      "Retrieving Results for Index 200: bargal.\n",
      "Retrieving Results for Index 201: bambous virieux.\n",
      "Retrieving Results for Index 202: dalbandin.\n",
      "Retrieving Results for Index 203: neryungri.\n",
      "Retrieving Results for Index 204: mananjary.\n",
      "Retrieving Results for Index 205: bonthe.\n",
      "Retrieving Results for Index 206: krasnoselkup.\n",
      "Retrieving Results for Index 207: upernavik.\n",
      "Retrieving Results for Index 208: dikson.\n",
      "Retrieving Results for Index 209: teguise.\n",
      "Retrieving Results for Index 210: talcahuano.\n",
      "Retrieving Results for Index 211: zambezi.\n",
      "Retrieving Results for Index 212: garango.\n",
      "Retrieving Results for Index 213: constitucion.\n",
      "Retrieving Results for Index 214: lermontovka.\n",
      "Retrieving Results for Index 215: parrita.\n",
      "Retrieving Results for Index 216: saint anthony.\n",
      "Retrieving Results for Index 217: kamenskoye.\n",
      "Retrieving Results for Index 218: zhob.\n",
      "Retrieving Results for Index 219: ribeira grande.\n",
      "Retrieving Results for Index 220: tiksi.\n",
      "Retrieving Results for Index 221: wajid.\n",
      "Retrieving Results for Index 222: washington.\n",
      "Retrieving Results for Index 223: bazarnyye mataki.\n",
      "Retrieving Results for Index 224: oistins.\n",
      "Retrieving Results for Index 225: brigantine.\n",
      "Retrieving Results for Index 226: mnogovershinnyy.\n",
      "Retrieving Results for Index 227: yushu.\n",
      "Retrieving Results for Index 228: lagos.\n",
      "Retrieving Results for Index 229: nanakuli.\n",
      "Retrieving Results for Index 230: tereze.\n",
      "Retrieving Results for Index 231: mahebourg.\n",
      "Retrieving Results for Index 232: tunceli.\n",
      "Retrieving Results for Index 233: chulym.\n",
      "Retrieving Results for Index 234: salalah.\n",
      "Retrieving Results for Index 235: vabalninkas.\n",
      "Retrieving Results for Index 236: ntungamo.\n",
      "Retrieving Results for Index 237: pozo colorado.\n",
      "Retrieving Results for Index 238: mogadishu.\n",
      "Retrieving Results for Index 239: the valley.\n",
      "Retrieving Results for Index 240: udachnyy.\n",
      "Retrieving Results for Index 241: lazi.\n",
      "Retrieving Results for Index 242: namibe.\n",
      "Retrieving Results for Index 243: bandarbeyla.\n",
      "Retrieving Results for Index 244: yar-sale.\n",
      "Retrieving Results for Index 245: lagoa.\n",
      "Retrieving Results for Index 246: lavrentiya.\n",
      "Retrieving Results for Index 247: cabo san lucas.\n",
      "Retrieving Results for Index 248: cockburn harbour.\n",
      "Retrieving Results for Index 249: kudahuvadhoo.\n",
      "Retrieving Results for Index 250: chapais.\n",
      "Retrieving Results for Index 251: cherskiy.\n",
      "Retrieving Results for Index 252: berlevag.\n",
      "Retrieving Results for Index 253: chirongui.\n",
      "Retrieving Results for Index 254: dutse.\n",
      "Retrieving Results for Index 255: coquimbo.\n",
      "Retrieving Results for Index 256: batemans bay.\n",
      "Retrieving Results for Index 257: dingle.\n",
      "Retrieving Results for Index 258: itoman.\n",
      "Retrieving Results for Index 259: manzhouli.\n",
      "Retrieving Results for Index 260: muhos.\n",
      "Retrieving Results for Index 261: port blair.\n",
      "Retrieving Results for Index 262: codrington.\n",
      "Retrieving Results for Index 263: bada.\n",
      "Retrieving Results for Index 264: provideniya.\n",
      "Retrieving Results for Index 265: luderitz.\n",
      "Retrieving Results for Index 266: santa rita.\n",
      "Retrieving Results for Index 267: nakodar.\n",
      "Retrieving Results for Index 268: kota bahru.\n",
      "Retrieving Results for Index 269: neuquen.\n",
      "Retrieving Results for Index 270: nouadhibou.\n",
      "Retrieving Results for Index 271: bolshegrivskoye.\n",
      "Retrieving Results for Index 272: biltine.\n",
      "Retrieving Results for Index 273: taoudenni.\n",
      "Retrieving Results for Index 274: am timan.\n",
      "Retrieving Results for Index 275: benito juarez.\n",
      "Retrieving Results for Index 276: kaitangata.\n",
      "Retrieving Results for Index 277: ankang.\n",
      "Retrieving Results for Index 278: sitka.\n",
      "Retrieving Results for Index 279: umzimvubu.\n",
      "Retrieving Results for Index 280: kaeo.\n",
      "Retrieving Results for Index 281: komsomolskiy.\n",
      "Retrieving Results for Index 282: pedernales.\n",
      "Retrieving Results for Index 283: sept-iles.\n",
      "Retrieving Results for Index 284: solsvik.\n",
      "Retrieving Results for Index 285: sentyabrskiy.\n",
      "Retrieving Results for Index 286: gamba.\n",
      "Retrieving Results for Index 287: sherbakul.\n",
      "Retrieving Results for Index 288: hambantota.\n",
      "Retrieving Results for Index 289: samarai.\n",
      "Retrieving Results for Index 290: buala.\n",
      "Retrieving Results for Index 291: bokhan.\n",
      "Retrieving Results for Index 292: bilma.\n",
      "Retrieving Results for Index 293: mazagao.\n",
      "Retrieving Results for Index 294: palmer.\n",
      "Retrieving Results for Index 295: ilulissat.\n",
      "Retrieving Results for Index 296: severo-kurilsk.\n",
      "Retrieving Results for Index 297: vila franca do campo.\n",
      "Retrieving Results for Index 298: bethanien.\n",
      "Retrieving Results for Index 299: tasbuget.\n",
      "Retrieving Results for Index 300: sao marcos.\n",
      "Retrieving Results for Index 301: solwezi.\n",
      "Retrieving Results for Index 302: frontera.\n",
      "Retrieving Results for Index 303: tunduru.\n",
      "Retrieving Results for Index 304: narsaq.\n",
      "Retrieving Results for Index 305: kieta.\n",
      "Retrieving Results for Index 306: kawalu.\n",
      "Retrieving Results for Index 307: illertissen.\n",
      "Retrieving Results for Index 308: guiratinga.\n",
      "Retrieving Results for Index 309: kargasok.\n",
      "Retrieving Results for Index 310: beringovskiy.\n",
      "Retrieving Results for Index 311: stykkisholmur.\n",
      "Retrieving Results for Index 312: kruisfontein.\n",
      "Retrieving Results for Index 313: langres.\n",
      "Retrieving Results for Index 314: dinguiraye.\n",
      "Retrieving Results for Index 315: palu.\n",
      "Retrieving Results for Index 316: we.\n",
      "Retrieving Results for Index 317: alta floresta.\n",
      "Retrieving Results for Index 318: price.\n",
      "Retrieving Results for Index 319: vrangel.\n",
      "Retrieving Results for Index 320: boa vista.\n",
      "Retrieving Results for Index 321: faanui.\n",
      "Retrieving Results for Index 322: zaraza.\n",
      "Retrieving Results for Index 323: kulhudhuffushi.\n",
      "Retrieving Results for Index 324: yulara.\n",
      "Retrieving Results for Index 325: mantua.\n",
      "Retrieving Results for Index 326: urengoy.\n",
      "Retrieving Results for Index 327: gizo.\n",
      "Retrieving Results for Index 328: cache creek.\n",
      "Retrieving Results for Index 329: port moresby.\n",
      "Retrieving Results for Index 330: yablonovo.\n",
      "Retrieving Results for Index 331: pangody.\n",
      "Retrieving Results for Index 332: stetseva.\n",
      "Retrieving Results for Index 333: keuruu.\n",
      "Retrieving Results for Index 334: cristalina.\n",
      "Retrieving Results for Index 335: lamu.\n",
      "Retrieving Results for Index 336: paamiut.\n",
      "Retrieving Results for Index 337: anloga.\n",
      "Retrieving Results for Index 338: chara.\n",
      "Retrieving Results for Index 339: praia da vitoria.\n",
      "Retrieving Results for Index 340: toliary.\n",
      "Retrieving Results for Index 341: cayenne.\n",
      "Retrieving Results for Index 342: meulaboh.\n",
      "Retrieving Results for Index 343: abu kamal.\n",
      "Retrieving Results for Index 344: moose factory.\n",
      "Retrieving Results for Index 345: isabela.\n",
      "Retrieving Results for Index 346: sabya.\n",
      "Retrieving Results for Index 347: palafrugell.\n",
      "Retrieving Results for Index 348: woodward.\n",
      "Retrieving Results for Index 349: coxim.\n",
      "Retrieving Results for Index 350: ocean city.\n",
      "Retrieving Results for Index 351: barsovo.\n",
      "Retrieving Results for Index 352: coromandel.\n",
      "Retrieving Results for Index 353: broken hill.\n",
      "Retrieving Results for Index 354: golden.\n",
      "Retrieving Results for Index 355: haines junction.\n",
      "Retrieving Results for Index 356: sahrak.\n",
      "Retrieving Results for Index 357: japura.\n",
      "Retrieving Results for Index 358: skovde.\n",
      "Retrieving Results for Index 359: marawi.\n",
      "Retrieving Results for Index 360: huarmey.\n",
      "Retrieving Results for Index 361: iqaluit.\n",
      "Retrieving Results for Index 362: guerrero negro.\n",
      "Retrieving Results for Index 363: varhaug.\n",
      "Retrieving Results for Index 364: esperance.\n",
      "Retrieving Results for Index 365: paragominas.\n",
      "Retrieving Results for Index 366: urumqi.\n",
      "Retrieving Results for Index 367: lebu.\n",
      "Retrieving Results for Index 368: coria.\n",
      "Retrieving Results for Index 369: kangaatsiaq.\n",
      "Retrieving Results for Index 370: riyadh.\n",
      "Retrieving Results for Index 371: kavieng.\n",
      "Retrieving Results for Index 372: port-gentil.\n",
      "Retrieving Results for Index 373: shache.\n",
      "Retrieving Results for Index 374: san vicente.\n"
     ]
    },
    {
     "name": "stdout",
     "output_type": "stream",
     "text": [
      "Retrieving Results for Index 375: port elizabeth.\n",
      "Retrieving Results for Index 376: deputatskiy.\n",
      "Retrieving Results for Index 377: san ramon de la nueva oran.\n",
      "Retrieving Results for Index 378: samusu.\n",
      "Retrieving Results for Index 379: aswan.\n",
      "Retrieving Results for Index 380: yatou.\n",
      "Retrieving Results for Index 381: katsuura.\n",
      "Retrieving Results for Index 382: fairview.\n",
      "Retrieving Results for Index 383: airai.\n",
      "Retrieving Results for Index 384: jumla.\n",
      "Retrieving Results for Index 385: noumea.\n",
      "Retrieving Results for Index 386: suntar.\n",
      "Retrieving Results for Index 387: puerto ayacucho.\n",
      "Retrieving Results for Index 388: comarapa.\n",
      "Retrieving Results for Index 389: sinegorye.\n",
      "Retrieving Results for Index 390: iralaya.\n",
      "Retrieving Results for Index 391: neiafu.\n",
      "Retrieving Results for Index 392: shimoda.\n",
      "Retrieving Results for Index 393: buraydah.\n",
      "Retrieving Results for Index 394: manokwari.\n",
      "Retrieving Results for Index 395: vanimo.\n",
      "Retrieving Results for Index 396: qaqortoq.\n",
      "Retrieving Results for Index 397: bheramara.\n",
      "Retrieving Results for Index 398: louisbourg.\n",
      "Retrieving Results for Index 399: lasa.\n",
      "Retrieving Results for Index 400: narasannapeta.\n",
      "Retrieving Results for Index 401: isla mujeres.\n",
      "Retrieving Results for Index 402: muros.\n",
      "Retrieving Results for Index 403: ust-maya.\n",
      "Retrieving Results for Index 404: zhigansk.\n",
      "Retrieving Results for Index 405: kalmunai.\n",
      "Retrieving Results for Index 406: harrison.\n",
      "Retrieving Results for Index 407: dukat.\n",
      "Retrieving Results for Index 408: san patricio.\n",
      "Retrieving Results for Index 409: oyama.\n",
      "Retrieving Results for Index 410: ostersund.\n",
      "Retrieving Results for Index 411: caxito.\n",
      "Retrieving Results for Index 412: jaque.\n",
      "Retrieving Results for Index 413: yanan.\n",
      "Retrieving Results for Index 414: kharan.\n",
      "Retrieving Results for Index 415: anadyr.\n",
      "Retrieving Results for Index 416: fethiye.\n",
      "Retrieving Results for Index 417: krasnyy chikoy.\n",
      "Retrieving Results for Index 418: ketchikan.\n",
      "Retrieving Results for Index 419: fortuna.\n",
      "Retrieving Results for Index 420: nisko.\n",
      "Retrieving Results for Index 421: aksarka.\n",
      "Retrieving Results for Index 422: makinsk.\n",
      "Retrieving Results for Index 423: van wert.\n",
      "Retrieving Results for Index 424: onalaska.\n",
      "Retrieving Results for Index 425: rungata.\n",
      "Retrieving Results for Index 426: westport.\n",
      "Retrieving Results for Index 427: isakly.\n",
      "Retrieving Results for Index 428: ramshir.\n",
      "Retrieving Results for Index 429: tilichiki.\n",
      "Retrieving Results for Index 430: neustadt.\n",
      "Retrieving Results for Index 431: isangel.\n",
      "Retrieving Results for Index 432: nabire.\n",
      "Retrieving Results for Index 433: terra santa.\n",
      "Retrieving Results for Index 434: fort nelson.\n",
      "Retrieving Results for Index 435: katakwi.\n",
      "Retrieving Results for Index 436: nisia floresta.\n",
      "Retrieving Results for Index 437: ust-kuyga.\n",
      "Retrieving Results for Index 438: aflu.\n",
      "Retrieving Results for Index 439: orbetello.\n",
      "Retrieving Results for Index 440: norman wells.\n",
      "Retrieving Results for Index 441: elbistan.\n",
      "Retrieving Results for Index 442: nirmal.\n",
      "Retrieving Results for Index 443: pirgos.\n",
      "Retrieving Results for Index 444: karatau.\n",
      "Retrieving Results for Index 445: ponta delgada.\n",
      "Retrieving Results for Index 446: rauma.\n",
      "Retrieving Results for Index 447: verkhnyaya inta.\n",
      "Retrieving Results for Index 448: katherine.\n",
      "Retrieving Results for Index 449: opuwo.\n",
      "Retrieving Results for Index 450: zalesovo.\n",
      "Retrieving Results for Index 451: rio gallegos.\n",
      "Retrieving Results for Index 452: kungurtug.\n",
      "Retrieving Results for Index 453: bichena.\n",
      "Retrieving Results for Index 454: itacoatiara.\n",
      "Retrieving Results for Index 455: angoram.\n",
      "Retrieving Results for Index 456: shingu.\n",
      "Retrieving Results for Index 457: ler.\n",
      "Retrieving Results for Index 458: darab.\n",
      "Retrieving Results for Index 459: castlemaine.\n",
      "Retrieving Results for Index 460: hay river.\n",
      "Retrieving Results for Index 461: bollnas.\n",
      "Retrieving Results for Index 462: kozhva.\n",
      "Retrieving Results for Index 463: darhan.\n",
      "Retrieving Results for Index 464: brae.\n",
      "Retrieving Results for Index 465: artigas.\n",
      "Retrieving Results for Index 466: carballo.\n",
      "Retrieving Results for Index 467: zdvinsk.\n",
      "Retrieving Results for Index 468: kauhajoki.\n",
      "Retrieving Results for Index 469: tautira.\n",
      "Retrieving Results for Index 470: muscle shoals.\n",
      "Retrieving Results for Index 471: damghan.\n",
      "Retrieving Results for Index 472: shishou.\n",
      "Retrieving Results for Index 473: kedrovyy.\n",
      "Retrieving Results for Index 474: payo.\n",
      "Retrieving Results for Index 475: tabou.\n",
      "Retrieving Results for Index 476: yarada.\n",
      "Retrieving Results for Index 477: zachagansk.\n",
      "Retrieving Results for Index 478: lala.\n",
      "Retrieving Results for Index 479: tura.\n",
      "Retrieving Results for Index 480: baruun-urt.\n",
      "Retrieving Results for Index 481: imeni poliny osipenko.\n",
      "Retrieving Results for Index 482: courtenay.\n",
      "Retrieving Results for Index 483: bud.\n",
      "Retrieving Results for Index 484: la romana.\n",
      "Retrieving Results for Index 485: kusu.\n",
      "Retrieving Results for Index 486: padang.\n",
      "Retrieving Results for Index 487: sulina.\n",
      "Retrieving Results for Index 488: guelengdeng.\n",
      "Retrieving Results for Index 489: kisangani.\n",
      "Retrieving Results for Index 490: townsville.\n",
      "Retrieving Results for Index 491: teknaf.\n",
      "Retrieving Results for Index 492: waipawa.\n",
      "Retrieving Results for Index 493: kropotkin.\n",
      "Retrieving Results for Index 494: jiuquan.\n",
      "Retrieving Results for Index 495: mhlume.\n",
      "Retrieving Results for Index 496: puerto baquerizo moreno.\n",
      "Retrieving Results for Index 497: north bend.\n",
      "Retrieving Results for Index 498: forotic.\n",
      "Retrieving Results for Index 499: bolungarvik.\n",
      "Retrieving Results for Index 500: okha.\n",
      "Retrieving Results for Index 501: guajara-mirim.\n",
      "Retrieving Results for Index 502: turtkul.\n",
      "Retrieving Results for Index 503: khonuu.\n",
      "Retrieving Results for Index 504: cartagena.\n",
      "Retrieving Results for Index 505: pangnirtung.\n",
      "Retrieving Results for Index 506: eyl.\n",
      "Retrieving Results for Index 507: inhambane.\n",
      "Retrieving Results for Index 508: riofrio.\n",
      "Retrieving Results for Index 509: klaksvik.\n",
      "Retrieving Results for Index 510: nanortalik.\n",
      "Retrieving Results for Index 511: sao filipe.\n",
      "Retrieving Results for Index 512: farah.\n",
      "Retrieving Results for Index 513: port-de-paix.\n",
      "Retrieving Results for Index 514: nizhniy kislyay.\n",
      "Retrieving Results for Index 515: sao paulo de olivenca.\n",
      "Retrieving Results for Index 516: sabang.\n",
      "Retrieving Results for Index 517: karauzyak.\n",
      "Retrieving Results for Index 518: olavarria.\n",
      "Retrieving Results for Index 519: kamaishi.\n",
      "Retrieving Results for Index 520: sao jose da coroa grande.\n",
      "Retrieving Results for Index 521: west bay.\n",
      "Retrieving Results for Index 522: awjilah.\n",
      "Retrieving Results for Index 523: san cristobal.\n",
      "Retrieving Results for Index 524: areosa.\n",
      "Retrieving Results for Index 525: nyaunglebin.\n",
      "Retrieving Results for Index 526: praya.\n",
      "Retrieving Results for Index 527: vanavara.\n",
      "Retrieving Results for Index 528: mau aima.\n",
      "Retrieving Results for Index 529: tezu.\n",
      "Retrieving Results for Index 530: clyde river.\n",
      "Retrieving Results for Index 531: itaituba.\n",
      "Retrieving Results for Index 532: okitipupa.\n",
      "Retrieving Results for Index 533: anaco.\n",
      "Retrieving Results for Index 534: dhidhdhoo.\n",
      "Retrieving Results for Index 535: fairbanks.\n",
      "Retrieving Results for Index 536: flin flon.\n",
      "Retrieving Results for Index 537: tyup.\n",
      "Retrieving Results for Index 538: petropavlovsk-kamchatskiy.\n",
      "Retrieving Results for Index 539: yenagoa.\n",
      "Retrieving Results for Index 540: maragogi.\n",
      "Retrieving Results for Index 541: sambava.\n",
      "Retrieving Results for Index 542: malaya vishera.\n",
      "Retrieving Results for Index 543: jiayuguan.\n",
      "Retrieving Results for Index 544: la ronge.\n",
      "Retrieving Results for Index 545: coihaique.\n",
      "Retrieving Results for Index 546: at-bashi.\n",
      "Retrieving Results for Index 547: mendoza.\n",
      "Retrieving Results for Index 548: half moon bay.\n",
      "Retrieving Results for Index 549: altay.\n",
      "Retrieving Results for Index 550: ambulu.\n",
      "Retrieving Results for Index 551: saint-pierre.\n",
      "Retrieving Results for Index 552: nyzy.\n",
      "Retrieving Results for Index 553: sao gabriel da cachoeira.\n",
      "Retrieving Results for Index 554: lithakia.\n",
      "Retrieving Results for Index 555: san jose.\n",
      "Retrieving Results for Index 556: stornoway.\n",
      "Retrieving Results for Index 557: amberieu-en-bugey.\n",
      "Retrieving Results for Index 558: alice springs.\n"
     ]
    },
    {
     "name": "stdout",
     "output_type": "stream",
     "text": [
      "Retrieving Results for Index 559: nago.\n",
      "Retrieving Results for Index 560: jardim.\n",
      "Retrieving Results for Index 561: alofi.\n",
      "Retrieving Results for Index 562: igrim.\n",
      "Retrieving Results for Index 563: marsh harbour.\n",
      "Retrieving Results for Index 564: rusape.\n",
      "Retrieving Results for Index 565: kaseda.\n",
      "Retrieving Results for Index 566: mongua.\n",
      "Retrieving Results for Index 567: husavik.\n",
      "Retrieving Results for Index 568: arlit.\n",
      "Retrieving Results for Index 569: te anau.\n",
      "Retrieving Results for Index 570: tiznit.\n",
      "Retrieving Results for Index 571: riaba.\n",
      "Retrieving Results for Index 572: edmundston.\n",
      "Retrieving Results for Index 573: aysha.\n",
      "Retrieving Results for Index 574: cody.\n",
      "Retrieving Results for Index 575: rondonopolis.\n",
      "Retrieving Results for Index 576: itarema.\n",
      "Retrieving Results for Index 577: singkang.\n",
      "Retrieving Results for Index 578: laramie.\n",
      "Retrieving Results for Index 579: wageningen.\n",
      "Retrieving Results for Index 580: petauke.\n",
      "Retrieving Results for Index 581: arman.\n",
      "Retrieving Results for Index 582: benguela.\n",
      "Retrieving Results for Index 583: seoul.\n",
      "Retrieving Results for Index 584: tabiauea.\n",
      "Retrieving Results for Index 585: ostrovnoy.\n",
      "Retrieving Results for Index 586: namalenga.\n",
      "Retrieving Results for Index 587: akyab.\n",
      "Retrieving Results for Index 588: brandenburg.\n",
      "Retrieving Results for Index 589: guaratinga.\n",
      "Retrieving Results for Index 590: amderma.\n",
      "Retrieving Results for Index 591: camacupa.\n",
      "Retrieving Results for Index 592: progreso.\n",
      "Retrieving Results for Index 593: skelleftea.\n",
      "Retrieving Results for Index 594: mawlaik.\n",
      "Retrieving Results for Index 595: salekhard.\n",
      "Retrieving Results for Index 596: havoysund.\n",
      "Retrieving Results for Index 597: gossaigaon.\n",
      "Retrieving Results for Index 598: juneau.\n",
      "Retrieving Results for Index 599: eureka.\n",
      "Retrieving Results for Index 600: kirillov.\n",
      "Retrieving Results for Index 601: bajo baudo.\n",
      "Retrieving Results for Index 602: jiangyou.\n",
      "Retrieving Results for Index 603: manitouwadge.\n",
      "Retrieving Results for Index 604: bognor regis.\n",
      "Retrieving Results for Index 605: yeppoon.\n",
      "Retrieving Results for Index 606: alyangula.\n",
      "Retrieving Results for Index 607: cockburn town.\n",
      "Retrieving Results for Index 608: obigarm.\n",
      "Retrieving Results for Index 609: kununurra.\n",
      "Retrieving Results for Index 610: koyilandi.\n",
      "Retrieving Results for Index 611: charters towers.\n",
      "Retrieving Results for Index 612: bubaque.\n",
      "Retrieving Results for Index 613: corinto.\n",
      "Retrieving Results for Index 614: nishihara.\n",
      "Retrieving Results for Index 615: havelock.\n",
      "Retrieving Results for Index 616: laguna.\n",
      "Retrieving Results for Index 617: geraldton.\n",
      "Retrieving Results for Index 618: nuuk.\n",
      "Retrieving Results for Index 619: touros.\n",
      "Retrieving Results for Index 620: eloy.\n",
      "Retrieving Results for Index 621: kinablangan.\n",
      "Retrieving Results for Index 622: hengshan.\n",
      "Retrieving Results for Index 623: talaya.\n",
      "Retrieving Results for Index 624: boyolangu.\n",
      "Retrieving Results for Index 625: sarangani.\n",
      "Retrieving Results for Index 626: lalomanu.\n",
      "Retrieving Results for Index 627: arya.\n",
      "Retrieving Results for Index 628: caravelas.\n",
      "Retrieving Results for Index 629: shelburne.\n",
      "Retrieving Results for Index 630: buchanan.\n",
      "Retrieving Results for Index 631: kirensk.\n",
      "Retrieving Results for Index 632: mackay.\n",
      "Retrieving Results for Index 633: dunedin.\n",
      "Retrieving Results for Index 634: krosno odrzanskie.\n",
      "Retrieving Results for Index 635: tual.\n",
      "Retrieving Results for Index 636: monte alegre.\n",
      "Retrieving Results for Index 637: tessalit.\n"
     ]
    }
   ],
   "source": [
    "#Perform a weather check on each city using a series of successive API calls.\n",
    "base_url=\"http://api.openweathermap.org/data/2.5/weather\"\n",
    "params={\"appid\":weather_api_key}\n",
    "for index,row in df.iterrows():\n",
    "    params[\"q\"] = row['City']\n",
    "    try:\n",
    "        print(f\"Retrieving Record {index}: {row['City']}.\")\n",
    "        response=requests.get(base_url,params=params).json()\n",
    "    except:\n",
    "        print(\"Missing field/result... skipping\")\n"
   ]
  },
  {
   "cell_type": "markdown",
   "metadata": {},
   "source": [
    "### Convert Raw Data to DataFrame\n",
    "* Export the city data into a .csv.\n",
    "* Display the DataFrame"
   ]
  },
  {
   "cell_type": "code",
   "execution_count": 163,
   "metadata": {
    "scrolled": true
   },
   "outputs": [
    {
     "name": "stdout",
     "output_type": "stream",
     "text": [
      "Missing field/result... skipping.\n",
      "Missing field/result... skipping.\n",
      "Missing field/result... skipping.\n",
      "Missing field/result... skipping.\n",
      "Missing field/result... skipping.\n",
      "Missing field/result... skipping.\n",
      "Missing field/result... skipping.\n",
      "Missing field/result... skipping.\n",
      "Missing field/result... skipping.\n",
      "Missing field/result... skipping.\n",
      "Missing field/result... skipping.\n",
      "Missing field/result... skipping.\n",
      "Missing field/result... skipping.\n",
      "Missing field/result... skipping.\n",
      "Missing field/result... skipping.\n",
      "Missing field/result... skipping.\n",
      "Missing field/result... skipping.\n",
      "Missing field/result... skipping.\n",
      "Missing field/result... skipping.\n",
      "Missing field/result... skipping.\n",
      "Missing field/result... skipping.\n",
      "Missing field/result... skipping.\n",
      "Missing field/result... skipping.\n",
      "Missing field/result... skipping.\n",
      "Missing field/result... skipping.\n",
      "Missing field/result... skipping.\n",
      "Missing field/result... skipping.\n",
      "Missing field/result... skipping.\n",
      "Missing field/result... skipping.\n",
      "Missing field/result... skipping.\n",
      "Missing field/result... skipping.\n",
      "Missing field/result... skipping.\n",
      "Missing field/result... skipping.\n",
      "Missing field/result... skipping.\n",
      "Missing field/result... skipping.\n",
      "Missing field/result... skipping.\n",
      "Missing field/result... skipping.\n",
      "Missing field/result... skipping.\n",
      "Missing field/result... skipping.\n",
      "Missing field/result... skipping.\n",
      "Missing field/result... skipping.\n",
      "Missing field/result... skipping.\n",
      "Missing field/result... skipping.\n",
      "Missing field/result... skipping.\n",
      "Missing field/result... skipping.\n",
      "Missing field/result... skipping.\n",
      "Missing field/result... skipping.\n",
      "Missing field/result... skipping.\n",
      "Missing field/result... skipping.\n",
      "Missing field/result... skipping.\n",
      "Missing field/result... skipping.\n",
      "Missing field/result... skipping.\n"
     ]
    }
   ],
   "source": [
    "#Converting to dataframe:\n",
    "base_url=\"http://api.openweathermap.org/data/2.5/weather\"\n",
    "params={\"appid\":weather_api_key}\n",
    "for index,row in df.iterrows():\n",
    "    params[\"q\"]=row['City']\n",
    "    response=requests.get(base_url,params=params).json()\n",
    "    try:\n",
    "        df.loc[index,\"Cloudiness\"]=response[\"clouds\"][\"all\"]\n",
    "        df.loc[index,\"Country\"]=response[\"sys\"][\"country\"]\n",
    "        df.loc[index,\"Date\"]=response[\"dt\"]\n",
    "        df.loc[index,\"Humidity\"]=response[\"main\"][\"humidity\"]\n",
    "        df.loc[index,\"Lat\"]=response[\"coord\"][\"lat\"]\n",
    "        df.loc[index,\"Lng\"]=response[\"coord\"][\"lon\"]\n",
    "        df.loc[index,\"Max Temp\"]=response[\"main\"][\"temp_max\"]\n",
    "        df.loc[index,\"Wind Speed\"]=response[\"wind\"][\"speed\"]\n",
    "    except (KeyError,IndexError):\n",
    "        print(\"Missing field/result... skipping.\")\n",
    "        \n"
   ]
  },
  {
   "cell_type": "code",
   "execution_count": 214,
   "metadata": {},
   "outputs": [],
   "source": [
    "#Remove empty cells and export \n",
    "df_clean=df.dropna(how='any')\n",
    "nan_value=float(\"NaN\")\n",
    "df_clean.replace(\"\",nan_value,inplace=True)\n",
    "df_clean=df_clean.dropna(how='any')\n",
    "#df_clean.to_csv(\"weather_data.csv\", index=False)"
   ]
  },
  {
   "cell_type": "code",
   "execution_count": 215,
   "metadata": {},
   "outputs": [
    {
     "data": {
      "text/plain": [
       "City          569\n",
       "Cloudiness    569\n",
       "Country       569\n",
       "Date          569\n",
       "Humidity      569\n",
       "Lat           569\n",
       "Lng           569\n",
       "Max Temp      569\n",
       "Wind Speed    569\n",
       "dtype: int64"
      ]
     },
     "execution_count": 215,
     "metadata": {},
     "output_type": "execute_result"
    }
   ],
   "source": [
    "df_clean.count()"
   ]
  },
  {
   "cell_type": "code",
   "execution_count": 216,
   "metadata": {},
   "outputs": [
    {
     "data": {
      "text/html": [
       "<div>\n",
       "<style scoped>\n",
       "    .dataframe tbody tr th:only-of-type {\n",
       "        vertical-align: middle;\n",
       "    }\n",
       "\n",
       "    .dataframe tbody tr th {\n",
       "        vertical-align: top;\n",
       "    }\n",
       "\n",
       "    .dataframe thead th {\n",
       "        text-align: right;\n",
       "    }\n",
       "</style>\n",
       "<table border=\"1\" class=\"dataframe\">\n",
       "  <thead>\n",
       "    <tr style=\"text-align: right;\">\n",
       "      <th></th>\n",
       "      <th>City</th>\n",
       "      <th>Cloudiness</th>\n",
       "      <th>Country</th>\n",
       "      <th>Date</th>\n",
       "      <th>Humidity</th>\n",
       "      <th>Lat</th>\n",
       "      <th>Lng</th>\n",
       "      <th>Max Temp</th>\n",
       "      <th>Wind Speed</th>\n",
       "    </tr>\n",
       "  </thead>\n",
       "  <tbody>\n",
       "    <tr>\n",
       "      <td>0</td>\n",
       "      <td>rikitea</td>\n",
       "      <td>15.0</td>\n",
       "      <td>PF</td>\n",
       "      <td>1.584896e+09</td>\n",
       "      <td>73.0</td>\n",
       "      <td>-23.12</td>\n",
       "      <td>-134.97</td>\n",
       "      <td>298.80</td>\n",
       "      <td>1.66</td>\n",
       "    </tr>\n",
       "    <tr>\n",
       "      <td>1</td>\n",
       "      <td>ishigaki</td>\n",
       "      <td>9.0</td>\n",
       "      <td>JP</td>\n",
       "      <td>1.584896e+09</td>\n",
       "      <td>92.0</td>\n",
       "      <td>24.34</td>\n",
       "      <td>124.16</td>\n",
       "      <td>296.20</td>\n",
       "      <td>7.01</td>\n",
       "    </tr>\n",
       "    <tr>\n",
       "      <td>2</td>\n",
       "      <td>clyde river</td>\n",
       "      <td>1.0</td>\n",
       "      <td>CA</td>\n",
       "      <td>1.584896e+09</td>\n",
       "      <td>83.0</td>\n",
       "      <td>70.47</td>\n",
       "      <td>-68.59</td>\n",
       "      <td>250.15</td>\n",
       "      <td>1.50</td>\n",
       "    </tr>\n",
       "    <tr>\n",
       "      <td>3</td>\n",
       "      <td>port elizabeth</td>\n",
       "      <td>75.0</td>\n",
       "      <td>ZA</td>\n",
       "      <td>1.584896e+09</td>\n",
       "      <td>88.0</td>\n",
       "      <td>-33.92</td>\n",
       "      <td>25.57</td>\n",
       "      <td>296.15</td>\n",
       "      <td>5.70</td>\n",
       "    </tr>\n",
       "    <tr>\n",
       "      <td>4</td>\n",
       "      <td>ushuaia</td>\n",
       "      <td>98.0</td>\n",
       "      <td>AR</td>\n",
       "      <td>1.584896e+09</td>\n",
       "      <td>57.0</td>\n",
       "      <td>-54.80</td>\n",
       "      <td>-68.30</td>\n",
       "      <td>282.15</td>\n",
       "      <td>3.10</td>\n",
       "    </tr>\n",
       "  </tbody>\n",
       "</table>\n",
       "</div>"
      ],
      "text/plain": [
       "             City  Cloudiness Country          Date  Humidity    Lat     Lng  \\\n",
       "0         rikitea        15.0      PF  1.584896e+09      73.0 -23.12 -134.97   \n",
       "1        ishigaki         9.0      JP  1.584896e+09      92.0  24.34  124.16   \n",
       "2     clyde river         1.0      CA  1.584896e+09      83.0  70.47  -68.59   \n",
       "3  port elizabeth        75.0      ZA  1.584896e+09      88.0 -33.92   25.57   \n",
       "4         ushuaia        98.0      AR  1.584896e+09      57.0 -54.80  -68.30   \n",
       "\n",
       "   Max Temp  Wind Speed  \n",
       "0    298.80        1.66  \n",
       "1    296.20        7.01  \n",
       "2    250.15        1.50  \n",
       "3    296.15        5.70  \n",
       "4    282.15        3.10  "
      ]
     },
     "execution_count": 216,
     "metadata": {},
     "output_type": "execute_result"
    }
   ],
   "source": [
    "df_clean.head()"
   ]
  },
  {
   "cell_type": "markdown",
   "metadata": {},
   "source": [
    "### Plotting the Data\n",
    "* Use proper labeling of the plots using plot titles (including date of analysis) and axes labels.\n",
    "* Save the plotted figures as .pngs."
   ]
  },
  {
   "cell_type": "markdown",
   "metadata": {},
   "source": [
    "#### Latitude vs. Temperature Plot"
   ]
  },
  {
   "cell_type": "code",
   "execution_count": 218,
   "metadata": {},
   "outputs": [],
   "source": [
    "#Convert \"max temp\" from K to F:\n",
    "df_clean[\"Max Temp\"]=df_clean[\"Max Temp\"]*1.8-459.67\n"
   ]
  },
  {
   "cell_type": "code",
   "execution_count": 219,
   "metadata": {},
   "outputs": [
    {
     "data": {
      "text/html": [
       "<div>\n",
       "<style scoped>\n",
       "    .dataframe tbody tr th:only-of-type {\n",
       "        vertical-align: middle;\n",
       "    }\n",
       "\n",
       "    .dataframe tbody tr th {\n",
       "        vertical-align: top;\n",
       "    }\n",
       "\n",
       "    .dataframe thead th {\n",
       "        text-align: right;\n",
       "    }\n",
       "</style>\n",
       "<table border=\"1\" class=\"dataframe\">\n",
       "  <thead>\n",
       "    <tr style=\"text-align: right;\">\n",
       "      <th></th>\n",
       "      <th>City</th>\n",
       "      <th>Cloudiness</th>\n",
       "      <th>Country</th>\n",
       "      <th>Date</th>\n",
       "      <th>Humidity</th>\n",
       "      <th>Lat</th>\n",
       "      <th>Lng</th>\n",
       "      <th>Max Temp</th>\n",
       "      <th>Wind Speed</th>\n",
       "    </tr>\n",
       "  </thead>\n",
       "  <tbody>\n",
       "    <tr>\n",
       "      <td>0</td>\n",
       "      <td>rikitea</td>\n",
       "      <td>15.0</td>\n",
       "      <td>PF</td>\n",
       "      <td>1.584896e+09</td>\n",
       "      <td>73.0</td>\n",
       "      <td>-23.12</td>\n",
       "      <td>-134.97</td>\n",
       "      <td>78.17</td>\n",
       "      <td>1.66</td>\n",
       "    </tr>\n",
       "    <tr>\n",
       "      <td>1</td>\n",
       "      <td>ishigaki</td>\n",
       "      <td>9.0</td>\n",
       "      <td>JP</td>\n",
       "      <td>1.584896e+09</td>\n",
       "      <td>92.0</td>\n",
       "      <td>24.34</td>\n",
       "      <td>124.16</td>\n",
       "      <td>73.49</td>\n",
       "      <td>7.01</td>\n",
       "    </tr>\n",
       "    <tr>\n",
       "      <td>2</td>\n",
       "      <td>clyde river</td>\n",
       "      <td>1.0</td>\n",
       "      <td>CA</td>\n",
       "      <td>1.584896e+09</td>\n",
       "      <td>83.0</td>\n",
       "      <td>70.47</td>\n",
       "      <td>-68.59</td>\n",
       "      <td>-9.40</td>\n",
       "      <td>1.50</td>\n",
       "    </tr>\n",
       "    <tr>\n",
       "      <td>3</td>\n",
       "      <td>port elizabeth</td>\n",
       "      <td>75.0</td>\n",
       "      <td>ZA</td>\n",
       "      <td>1.584896e+09</td>\n",
       "      <td>88.0</td>\n",
       "      <td>-33.92</td>\n",
       "      <td>25.57</td>\n",
       "      <td>73.40</td>\n",
       "      <td>5.70</td>\n",
       "    </tr>\n",
       "    <tr>\n",
       "      <td>4</td>\n",
       "      <td>ushuaia</td>\n",
       "      <td>98.0</td>\n",
       "      <td>AR</td>\n",
       "      <td>1.584896e+09</td>\n",
       "      <td>57.0</td>\n",
       "      <td>-54.80</td>\n",
       "      <td>-68.30</td>\n",
       "      <td>48.20</td>\n",
       "      <td>3.10</td>\n",
       "    </tr>\n",
       "  </tbody>\n",
       "</table>\n",
       "</div>"
      ],
      "text/plain": [
       "             City  Cloudiness Country          Date  Humidity    Lat     Lng  \\\n",
       "0         rikitea        15.0      PF  1.584896e+09      73.0 -23.12 -134.97   \n",
       "1        ishigaki         9.0      JP  1.584896e+09      92.0  24.34  124.16   \n",
       "2     clyde river         1.0      CA  1.584896e+09      83.0  70.47  -68.59   \n",
       "3  port elizabeth        75.0      ZA  1.584896e+09      88.0 -33.92   25.57   \n",
       "4         ushuaia        98.0      AR  1.584896e+09      57.0 -54.80  -68.30   \n",
       "\n",
       "   Max Temp  Wind Speed  \n",
       "0     78.17        1.66  \n",
       "1     73.49        7.01  \n",
       "2     -9.40        1.50  \n",
       "3     73.40        5.70  \n",
       "4     48.20        3.10  "
      ]
     },
     "execution_count": 219,
     "metadata": {},
     "output_type": "execute_result"
    }
   ],
   "source": [
    "df_clean.head()"
   ]
  },
  {
   "cell_type": "code",
   "execution_count": 221,
   "metadata": {},
   "outputs": [
    {
     "data": {
      "text/plain": [
       "Text(0.5, 1.0, 'City Latitude vs. Max Temperature')"
      ]
     },
     "execution_count": 221,
     "metadata": {},
     "output_type": "execute_result"
    },
    {
     "data": {
      "image/png": "[encoded data removed]",
      "text/plain": [
       "<Figure size 432x288 with 1 Axes>"
      ]
     },
     "metadata": {
      "needs_background": "light"
     },
     "output_type": "display_data"
    }
   ],
   "source": [
    "#Correlation between Latitude and Max Temp:\n",
    "plt.scatter(df_clean.Lat,df_clean[\"Max Temp\"])\n",
    "plt.xlabel(\"Latitude\")\n",
    "plt.ylabel(\"Max Temperature (F)\")\n",
    "plt.title(\"City Latitude vs. Max Temperature\")"
   ]
  },
  {
   "cell_type": "markdown",
   "metadata": {},
   "source": [
    "#### Latitude vs. Humidity Plot"
   ]
  },
  {
   "cell_type": "code",
   "execution_count": 222,
   "metadata": {},
   "outputs": [
    {
     "data": {
      "text/plain": [
       "Text(0.5, 1.0, 'City Latitude vs. Humidity')"
      ]
     },
     "execution_count": 222,
     "metadata": {},
     "output_type": "execute_result"
    },
    {
     "data": {
      "image/png": "[encoded data removed]",
      "text/plain": [
       "<Figure size 432x288 with 1 Axes>"
      ]
     },
     "metadata": {
      "needs_background": "light"
     },
     "output_type": "display_data"
    }
   ],
   "source": [
    "#Correlation between Latitude and Humidity:\n",
    "plt.scatter(df_clean.Lat,df_clean.Humidity)\n",
    "plt.xlabel(\"Latitude\")\n",
    "plt.ylabel(\"Humidity\")\n",
    "plt.title(\"City Latitude vs. Humidity\")"
   ]
  },
  {
   "cell_type": "markdown",
   "metadata": {},
   "source": [
    "#### Latitude vs. Cloudiness Plot"
   ]
  },
  {
   "cell_type": "code",
   "execution_count": 223,
   "metadata": {},
   "outputs": [
    {
     "data": {
      "text/plain": [
       "Text(0.5, 1.0, 'City Latitude vs. Cloudiness')"
      ]
     },
     "execution_count": 223,
     "metadata": {},
     "output_type": "execute_result"
    },
    {
     "data": {
      "image/png": "[encoded data removed]",
      "text/plain": [
       "<Figure size 432x288 with 1 Axes>"
      ]
     },
     "metadata": {
      "needs_background": "light"
     },
     "output_type": "display_data"
    }
   ],
   "source": [
    "#Correlation between Latitude and Humidity:\n",
    "plt.scatter(df_clean.Lat,df_clean.Cloudiness)\n",
    "plt.xlabel(\"Latitude\")\n",
    "plt.ylabel(\"Cloudiness\")\n",
    "plt.title(\"City Latitude vs. Cloudiness\")"
   ]
  },
  {
   "cell_type": "markdown",
   "metadata": {},
   "source": [
    "#### Latitude vs. Wind Speed Plot"
   ]
  },
  {
   "cell_type": "code",
   "execution_count": 224,
   "metadata": {},
   "outputs": [
    {
     "data": {
      "text/plain": [
       "Text(0.5, 1.0, 'City Latitude vs. Wind Speed')"
      ]
     },
     "execution_count": 224,
     "metadata": {},
     "output_type": "execute_result"
    },
    {
     "data": {
      "image/png": "[encoded data removed]",
      "text/plain": [
       "<Figure size 432x288 with 1 Axes>"
      ]
     },
     "metadata": {
      "needs_background": "light"
     },
     "output_type": "display_data"
    }
   ],
   "source": [
    "#Correlation between Latitude and Humidity:\n",
    "plt.scatter(df_clean.Lat,df_clean[\"Wind Speed\"])\n",
    "plt.xlabel(\"Latitude\")\n",
    "plt.ylabel(\"Wind Speed\")\n",
    "plt.title(\"City Latitude vs. Wind Speed\")"
   ]
  },
  {
   "cell_type": "markdown",
   "metadata": {},
   "source": [
    "## Linear Regression"
   ]
  },
  {
   "cell_type": "code",
   "execution_count": 335,
   "metadata": {},
   "outputs": [],
   "source": [
    "# OPTIONAL: Create a function to create Linear Regression plots\n",
    "def reg(x,y):\n",
    "    w_slope,w_int,w_r,w_p,w_std_err=linregress(x,y)\n",
    "    w_fit=w_slope*x+w_int\n",
    "    plt.scatter(x,y)\n",
    "    plt.plot(x,w_fit,\"r--\")\n",
    "    print(f\"The r-squared is: {w_r}\")\n",
    "\n",
    "def line_eq(x,y):\n",
    "    w_slope,w_int,w_r,w_p,w_std_err=linregress(x,y)\n",
    "    line_eq=\"y = \"+str(round(w_slope,2))+\"x + \"+str(round(w_int,2))\n",
    "    return line_eq\n",
    "    #plt.annotate(line_eq,(6,10),fontsize=10,color=\"red\")"
   ]
  },
  {
   "cell_type": "code",
   "execution_count": 305,
   "metadata": {},
   "outputs": [
    {
     "data": {
      "text/html": [
       "<div>\n",
       "<style scoped>\n",
       "    .dataframe tbody tr th:only-of-type {\n",
       "        vertical-align: middle;\n",
       "    }\n",
       "\n",
       "    .dataframe tbody tr th {\n",
       "        vertical-align: top;\n",
       "    }\n",
       "\n",
       "    .dataframe thead th {\n",
       "        text-align: right;\n",
       "    }\n",
       "</style>\n",
       "<table border=\"1\" class=\"dataframe\">\n",
       "  <thead>\n",
       "    <tr style=\"text-align: right;\">\n",
       "      <th></th>\n",
       "      <th>City</th>\n",
       "      <th>Cloudiness</th>\n",
       "      <th>Country</th>\n",
       "      <th>Date</th>\n",
       "      <th>Humidity</th>\n",
       "      <th>Lat</th>\n",
       "      <th>Lng</th>\n",
       "      <th>Max Temp</th>\n",
       "      <th>Wind Speed</th>\n",
       "      <th>Hemisphere</th>\n",
       "    </tr>\n",
       "  </thead>\n",
       "  <tbody>\n",
       "    <tr>\n",
       "      <td>0</td>\n",
       "      <td>rikitea</td>\n",
       "      <td>15.0</td>\n",
       "      <td>PF</td>\n",
       "      <td>1.584896e+09</td>\n",
       "      <td>73.0</td>\n",
       "      <td>-23.12</td>\n",
       "      <td>-134.97</td>\n",
       "      <td>78.17</td>\n",
       "      <td>1.66</td>\n",
       "      <td>south</td>\n",
       "    </tr>\n",
       "    <tr>\n",
       "      <td>1</td>\n",
       "      <td>ishigaki</td>\n",
       "      <td>9.0</td>\n",
       "      <td>JP</td>\n",
       "      <td>1.584896e+09</td>\n",
       "      <td>92.0</td>\n",
       "      <td>24.34</td>\n",
       "      <td>124.16</td>\n",
       "      <td>73.49</td>\n",
       "      <td>7.01</td>\n",
       "      <td>north</td>\n",
       "    </tr>\n",
       "    <tr>\n",
       "      <td>2</td>\n",
       "      <td>clyde river</td>\n",
       "      <td>1.0</td>\n",
       "      <td>CA</td>\n",
       "      <td>1.584896e+09</td>\n",
       "      <td>83.0</td>\n",
       "      <td>70.47</td>\n",
       "      <td>-68.59</td>\n",
       "      <td>-9.40</td>\n",
       "      <td>1.50</td>\n",
       "      <td>north</td>\n",
       "    </tr>\n",
       "    <tr>\n",
       "      <td>3</td>\n",
       "      <td>port elizabeth</td>\n",
       "      <td>75.0</td>\n",
       "      <td>ZA</td>\n",
       "      <td>1.584896e+09</td>\n",
       "      <td>88.0</td>\n",
       "      <td>-33.92</td>\n",
       "      <td>25.57</td>\n",
       "      <td>73.40</td>\n",
       "      <td>5.70</td>\n",
       "      <td>south</td>\n",
       "    </tr>\n",
       "    <tr>\n",
       "      <td>4</td>\n",
       "      <td>ushuaia</td>\n",
       "      <td>98.0</td>\n",
       "      <td>AR</td>\n",
       "      <td>1.584896e+09</td>\n",
       "      <td>57.0</td>\n",
       "      <td>-54.80</td>\n",
       "      <td>-68.30</td>\n",
       "      <td>48.20</td>\n",
       "      <td>3.10</td>\n",
       "      <td>south</td>\n",
       "    </tr>\n",
       "  </tbody>\n",
       "</table>\n",
       "</div>"
      ],
      "text/plain": [
       "             City  Cloudiness Country          Date  Humidity    Lat     Lng  \\\n",
       "0         rikitea        15.0      PF  1.584896e+09      73.0 -23.12 -134.97   \n",
       "1        ishigaki         9.0      JP  1.584896e+09      92.0  24.34  124.16   \n",
       "2     clyde river         1.0      CA  1.584896e+09      83.0  70.47  -68.59   \n",
       "3  port elizabeth        75.0      ZA  1.584896e+09      88.0 -33.92   25.57   \n",
       "4         ushuaia        98.0      AR  1.584896e+09      57.0 -54.80  -68.30   \n",
       "\n",
       "   Max Temp  Wind Speed Hemisphere  \n",
       "0     78.17        1.66      south  \n",
       "1     73.49        7.01      north  \n",
       "2     -9.40        1.50      north  \n",
       "3     73.40        5.70      south  \n",
       "4     48.20        3.10      south  "
      ]
     },
     "execution_count": 305,
     "metadata": {},
     "output_type": "execute_result"
    }
   ],
   "source": [
    "# Create Northern and Southern Hemisphere DataFrames\n",
    "bins=[(-90),(-1),90]\n",
    "labels=[\"south\",\"north\"]\n",
    "df_clean[\"Hemisphere\"]=pd.cut(df_clean.Lat,bins,labels=labels)\n",
    "df_clean.head()"
   ]
  },
  {
   "cell_type": "code",
   "execution_count": 299,
   "metadata": {},
   "outputs": [],
   "source": [
    "north_df=df_clean.loc[df_clean.Hemisphere==\"north\"]\n",
    "south_df=df_clean.loc[df_clean.Hemisphere==\"south\"]"
   ]
  },
  {
   "cell_type": "markdown",
   "metadata": {},
   "source": [
    "####  Northern Hemisphere - Max Temp vs. Latitude Linear Regression"
   ]
  },
  {
   "cell_type": "code",
   "execution_count": 336,
   "metadata": {},
   "outputs": [
    {
     "name": "stdout",
     "output_type": "stream",
     "text": [
      "The r-squared is: -0.8957180221934719\n"
     ]
    },
    {
     "data": {
      "text/plain": [
       "Text(6, 10, 'y = -1.16x + 93.71')"
      ]
     },
     "execution_count": 336,
     "metadata": {},
     "output_type": "execute_result"
    },
    {
     "data": {
      "image/png": "[encoded data removed]",
      "text/plain": [
       "<Figure size 432x288 with 1 Axes>"
      ]
     },
     "metadata": {
      "needs_background": "light"
     },
     "output_type": "display_data"
    }
   ],
   "source": [
    "reg(north_df[\"Lat\"],north_df[\"Max Temp\"])\n",
    "plt.xlabel(\"Latitude\")\n",
    "plt.ylabel(\"Max Temperature\")\n",
    "plt.annotate(line_eq(north_df[\"Lat\"],north_df[\"Max Temp\"]),(6,10),fontsize=10,color=\"red\")"
   ]
  },
  {
   "cell_type": "markdown",
   "metadata": {},
   "source": [
    "####  Southern Hemisphere - Max Temp vs. Latitude Linear Regression"
   ]
  },
  {
   "cell_type": "code",
   "execution_count": 338,
   "metadata": {},
   "outputs": [
    {
     "name": "stdout",
     "output_type": "stream",
     "text": [
      "The r-squared is: 0.5605350934711757\n"
     ]
    },
    {
     "data": {
      "text/plain": [
       "Text(-20, 50, 'y = 0.48x + 85.73')"
      ]
     },
     "execution_count": 338,
     "metadata": {},
     "output_type": "execute_result"
    },
    {
     "data": {
      "image/png": "[encoded data removed]",
      "text/plain": [
       "<Figure size 432x288 with 1 Axes>"
      ]
     },
     "metadata": {
      "needs_background": "light"
     },
     "output_type": "display_data"
    }
   ],
   "source": [
    "reg(south_df[\"Lat\"],south_df[\"Max Temp\"])\n",
    "plt.xlabel(\"Latitude\")\n",
    "plt.ylabel(\"Max Temperature\")\n",
    "plt.annotate(line_eq(south_df[\"Lat\"],south_df[\"Max Temp\"]),(-20,50),fontsize=10,color=\"red\")"
   ]
  },
  {
   "cell_type": "markdown",
   "metadata": {},
   "source": [
    "####  Northern Hemisphere - Humidity (%) vs. Latitude Linear Regression"
   ]
  },
  {
   "cell_type": "code",
   "execution_count": 339,
   "metadata": {},
   "outputs": [
    {
     "name": "stdout",
     "output_type": "stream",
     "text": [
      "The r-squared is: 0.21879550510006715\n"
     ]
    },
    {
     "data": {
      "text/plain": [
       "Text(50, 20, 'y = 0.23x + 61.32')"
      ]
     },
     "execution_count": 339,
     "metadata": {},
     "output_type": "execute_result"
    },
    {
     "data": {
      "image/png": "[encoded data removed]",
      "text/plain": [
       "<Figure size 432x288 with 1 Axes>"
      ]
     },
     "metadata": {
      "needs_background": "light"
     },
     "output_type": "display_data"
    }
   ],
   "source": [
    "reg(north_df[\"Lat\"],north_df[\"Humidity\"])\n",
    "plt.xlabel(\"Latitude\")\n",
    "plt.ylabel(\"Humidity\")\n",
    "plt.annotate(line_eq(north_df[\"Lat\"],north_df[\"Humidity\"]),(50,20),fontsize=10,color=\"red\")"
   ]
  },
  {
   "cell_type": "markdown",
   "metadata": {},
   "source": [
    "####  Southern Hemisphere - Humidity (%) vs. Latitude Linear Regression"
   ]
  },
  {
   "cell_type": "code",
   "execution_count": 341,
   "metadata": {},
   "outputs": [
    {
     "name": "stdout",
     "output_type": "stream",
     "text": [
      "The r-squared is: 0.23680385385488448\n"
     ]
    },
    {
     "data": {
      "text/plain": [
       "Text(-20, 20, 'y = 0.35x + 76.56')"
      ]
     },
     "execution_count": 341,
     "metadata": {},
     "output_type": "execute_result"
    },
    {
     "data": {
      "image/png": "[encoded data removed]",
      "text/plain": [
       "<Figure size 432x288 with 1 Axes>"
      ]
     },
     "metadata": {
      "needs_background": "light"
     },
     "output_type": "display_data"
    }
   ],
   "source": [
    "reg(south_df[\"Lat\"],south_df[\"Humidity\"])\n",
    "plt.xlabel(\"Latitude\")\n",
    "plt.ylabel(\"Humidity\")\n",
    "plt.annotate(line_eq(south_df[\"Lat\"],south_df[\"Humidity\"]),(-20,20),fontsize=10,color=\"red\")"
   ]
  },
  {
   "cell_type": "markdown",
   "metadata": {},
   "source": [
    "####  Northern Hemisphere - Cloudiness (%) vs. Latitude Linear Regression"
   ]
  },
  {
   "cell_type": "code",
   "execution_count": 344,
   "metadata": {},
   "outputs": [
    {
     "name": "stdout",
     "output_type": "stream",
     "text": [
      "The r-squared is: 0.20903658603969288\n"
     ]
    },
    {
     "data": {
      "text/plain": [
       "Text(80, 60, 'y = 0.38x + 37.59')"
      ]
     },
     "execution_count": 344,
     "metadata": {},
     "output_type": "execute_result"
    },
    {
     "data": {
      "image/png": "[encoded data removed]",
      "text/plain": [
       "<Figure size 432x288 with 1 Axes>"
      ]
     },
     "metadata": {
      "needs_background": "light"
     },
     "output_type": "display_data"
    }
   ],
   "source": [
    "reg(north_df[\"Lat\"],north_df[\"Cloudiness\"])\n",
    "plt.xlabel(\"Latitude\")\n",
    "plt.ylabel(\"Cloudiness\")\n",
    "plt.annotate(line_eq(north_df[\"Lat\"],north_df[\"Cloudiness\"]),(80,60),fontsize=10,color=\"red\")"
   ]
  },
  {
   "cell_type": "markdown",
   "metadata": {},
   "source": [
    "####  Southern Hemisphere - Cloudiness (%) vs. Latitude Linear Regression"
   ]
  },
  {
   "cell_type": "code",
   "execution_count": 346,
   "metadata": {},
   "outputs": [
    {
     "name": "stdout",
     "output_type": "stream",
     "text": [
      "The r-squared is: 0.06796911873065142\n"
     ]
    },
    {
     "data": {
      "text/plain": [
       "Text(-55, 40, 'y = 0.19x + 57.9')"
      ]
     },
     "execution_count": 346,
     "metadata": {},
     "output_type": "execute_result"
    },
    {
     "data": {
      "image/png": "[encoded data removed]",
      "text/plain": [
       "<Figure size 432x288 with 1 Axes>"
      ]
     },
     "metadata": {
      "needs_background": "light"
     },
     "output_type": "display_data"
    }
   ],
   "source": [
    "reg(south_df[\"Lat\"],south_df[\"Cloudiness\"])\n",
    "plt.xlabel(\"Latitude\")\n",
    "plt.ylabel(\"Cloudiness\")\n",
    "plt.annotate(line_eq(south_df[\"Lat\"],south_df[\"Cloudiness\"]),(-55,40),fontsize=10,color=\"red\")"
   ]
  },
  {
   "cell_type": "markdown",
   "metadata": {},
   "source": [
    "####  Northern Hemisphere - Wind Speed (mph) vs. Latitude Linear Regression"
   ]
  },
  {
   "cell_type": "code",
   "execution_count": 350,
   "metadata": {},
   "outputs": [
    {
     "name": "stdout",
     "output_type": "stream",
     "text": [
      "The r-squared is: 0.211359419518498\n"
     ]
    },
    {
     "data": {
      "text/plain": [
       "Text(35, 15, 'y = 0.03x + 3.07')"
      ]
     },
     "execution_count": 350,
     "metadata": {},
     "output_type": "execute_result"
    },
    {
     "data": {
      "image/png": "[encoded data removed]",
      "text/plain": [
       "<Figure size 432x288 with 1 Axes>"
      ]
     },
     "metadata": {
      "needs_background": "light"
     },
     "output_type": "display_data"
    }
   ],
   "source": [
    "reg(north_df[\"Lat\"],north_df[\"Wind Speed\"])\n",
    "plt.xlabel(\"Latitude\")\n",
    "plt.ylabel(\"Wind Speed\")\n",
    "plt.annotate(line_eq(north_df[\"Lat\"],north_df[\"Wind Speed\"]),(35,15),fontsize=10,color=\"red\")"
   ]
  },
  {
   "cell_type": "markdown",
   "metadata": {},
   "source": [
    "####  Southern Hemisphere - Wind Speed (mph) vs. Latitude Linear Regression"
   ]
  },
  {
   "cell_type": "code",
   "execution_count": 347,
   "metadata": {
    "scrolled": true
   },
   "outputs": [
    {
     "name": "stdout",
     "output_type": "stream",
     "text": [
      "The r-squared is: -0.26321883396804613\n"
     ]
    },
    {
     "data": {
      "text/plain": [
       "Text(-50, 10, 'y = -0.05x + 2.69')"
      ]
     },
     "execution_count": 347,
     "metadata": {},
     "output_type": "execute_result"
    },
    {
     "data": {
      "image/png": "[encoded data removed]",
      "text/plain": [
       "<Figure size 432x288 with 1 Axes>"
      ]
     },
     "metadata": {
      "needs_background": "light"
     },
     "output_type": "display_data"
    }
   ],
   "source": [
    "reg(south_df[\"Lat\"],south_df[\"Wind Speed\"])\n",
    "plt.xlabel(\"Latitude\")\n",
    "plt.ylabel(\"Wind Speed\")\n",
    "plt.annotate(line_eq(south_df[\"Lat\"],south_df[\"Wind Speed\"]),(-50,10),fontsize=10,color=\"red\")"
   ]
  },
  {
   "cell_type": "code",
   "execution_count": null,
   "metadata": {},
   "outputs": [],
   "source": []
  }
 ],
 "metadata": {
  "anaconda-cloud": {},
  "kernel_info": {
   "name": "python3"
  },
  "kernelspec": {
   "display_name": "Python 3",
   "language": "python",
   "name": "python3"
  },
  "language_info": {
   "codemirror_mode": {
    "name": "ipython",
    "version": 3
   },
   "file_extension": ".py",
   "mimetype": "text/x-python",
   "name": "python",
   "nbconvert_exporter": "python",
   "pygments_lexer": "ipython3",
   "version": "3.7.4"
  },
  "latex_envs": {
   "LaTeX_envs_menu_present": true,
   "autoclose": false,
   "autocomplete": true,
   "bibliofile": "biblio.bib",
   "cite_by": "apalike",
   "current_citInitial": 1,
   "eqLabelWithNumbers": true,
   "eqNumInitial": 1,
   "hotkeys": {
    "equation": "Ctrl-E",
    "itemize": "Ctrl-I"
   },
   "labels_anchors": false,
   "latex_user_defs": false,
   "report_style_numbering": false,
   "user_envs_cfg": false
  },
  "nteract": {
   "version": "0.12.3"
  }
 },
 "nbformat": 4,
 "nbformat_minor": 2
}
