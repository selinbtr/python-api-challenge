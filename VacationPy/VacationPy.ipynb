{
 "cells": [
  {
   "cell_type": "markdown",
   "metadata": {},
   "source": [
    "# VacationPy\n",
    "----\n",
    "\n",
    "#### Note\n",
    "* Instructions have been included for each segment. You do not have to follow them exactly, but they are included to help you think through the steps."
   ]
  },
  {
   "cell_type": "code",
   "execution_count": 1,
   "metadata": {},
   "outputs": [],
   "source": [
    "# Dependencies and Setup\n",
    "import matplotlib.pyplot as plt\n",
    "import pandas as pd\n",
    "import numpy as np\n",
    "import requests\n",
    "import gmaps\n",
    "import os\n",
    "import json\n",
    "\n",
    "# Import API key\n",
    "from api_keys import g_key\n"
   ]
  },
  {
   "cell_type": "markdown",
   "metadata": {},
   "source": [
    "### Store Part I results into DataFrame\n",
    "* Load the csv exported in Part I to a DataFrame"
   ]
  },
  {
   "cell_type": "code",
   "execution_count": 19,
   "metadata": {},
   "outputs": [
    {
     "data": {
      "text/html": [
       "<div>\n",
       "<style scoped>\n",
       "    .dataframe tbody tr th:only-of-type {\n",
       "        vertical-align: middle;\n",
       "    }\n",
       "\n",
       "    .dataframe tbody tr th {\n",
       "        vertical-align: top;\n",
       "    }\n",
       "\n",
       "    .dataframe thead th {\n",
       "        text-align: right;\n",
       "    }\n",
       "</style>\n",
       "<table border=\"1\" class=\"dataframe\">\n",
       "  <thead>\n",
       "    <tr style=\"text-align: right;\">\n",
       "      <th></th>\n",
       "      <th>City</th>\n",
       "      <th>Cloudiness</th>\n",
       "      <th>Country</th>\n",
       "      <th>Date</th>\n",
       "      <th>Humidity</th>\n",
       "      <th>Lat</th>\n",
       "      <th>Lng</th>\n",
       "      <th>Max Temp</th>\n",
       "      <th>Wind Speed</th>\n",
       "    </tr>\n",
       "  </thead>\n",
       "  <tbody>\n",
       "    <tr>\n",
       "      <td>0</td>\n",
       "      <td>rikitea</td>\n",
       "      <td>15.0</td>\n",
       "      <td>PF</td>\n",
       "      <td>1.584896e+09</td>\n",
       "      <td>73.0</td>\n",
       "      <td>-23.12</td>\n",
       "      <td>-134.97</td>\n",
       "      <td>298.80</td>\n",
       "      <td>1.66</td>\n",
       "    </tr>\n",
       "    <tr>\n",
       "      <td>1</td>\n",
       "      <td>ishigaki</td>\n",
       "      <td>9.0</td>\n",
       "      <td>JP</td>\n",
       "      <td>1.584896e+09</td>\n",
       "      <td>92.0</td>\n",
       "      <td>24.34</td>\n",
       "      <td>124.16</td>\n",
       "      <td>296.20</td>\n",
       "      <td>7.01</td>\n",
       "    </tr>\n",
       "    <tr>\n",
       "      <td>2</td>\n",
       "      <td>clyde river</td>\n",
       "      <td>1.0</td>\n",
       "      <td>CA</td>\n",
       "      <td>1.584896e+09</td>\n",
       "      <td>83.0</td>\n",
       "      <td>70.47</td>\n",
       "      <td>-68.59</td>\n",
       "      <td>250.15</td>\n",
       "      <td>1.50</td>\n",
       "    </tr>\n",
       "    <tr>\n",
       "      <td>3</td>\n",
       "      <td>port elizabeth</td>\n",
       "      <td>75.0</td>\n",
       "      <td>ZA</td>\n",
       "      <td>1.584896e+09</td>\n",
       "      <td>88.0</td>\n",
       "      <td>-33.92</td>\n",
       "      <td>25.57</td>\n",
       "      <td>296.15</td>\n",
       "      <td>5.70</td>\n",
       "    </tr>\n",
       "    <tr>\n",
       "      <td>4</td>\n",
       "      <td>ushuaia</td>\n",
       "      <td>98.0</td>\n",
       "      <td>AR</td>\n",
       "      <td>1.584896e+09</td>\n",
       "      <td>57.0</td>\n",
       "      <td>-54.80</td>\n",
       "      <td>-68.30</td>\n",
       "      <td>282.15</td>\n",
       "      <td>3.10</td>\n",
       "    </tr>\n",
       "  </tbody>\n",
       "</table>\n",
       "</div>"
      ],
      "text/plain": [
       "             City  Cloudiness Country          Date  Humidity    Lat     Lng  \\\n",
       "0         rikitea        15.0      PF  1.584896e+09      73.0 -23.12 -134.97   \n",
       "1        ishigaki         9.0      JP  1.584896e+09      92.0  24.34  124.16   \n",
       "2     clyde river         1.0      CA  1.584896e+09      83.0  70.47  -68.59   \n",
       "3  port elizabeth        75.0      ZA  1.584896e+09      88.0 -33.92   25.57   \n",
       "4         ushuaia        98.0      AR  1.584896e+09      57.0 -54.80  -68.30   \n",
       "\n",
       "   Max Temp  Wind Speed  \n",
       "0    298.80        1.66  \n",
       "1    296.20        7.01  \n",
       "2    250.15        1.50  \n",
       "3    296.15        5.70  \n",
       "4    282.15        3.10  "
      ]
     },
     "execution_count": 19,
     "metadata": {},
     "output_type": "execute_result"
    }
   ],
   "source": [
    "df=pd.read_csv(\"weather_data.csv\")\n",
    "df.head()"
   ]
  },
  {
   "cell_type": "markdown",
   "metadata": {},
   "source": [
    "### Humidity Heatmap\n",
    "* Configure gmaps.\n",
    "* Use the Lat and Lng as locations and Humidity as the weight.\n",
    "* Add Heatmap layer to map."
   ]
  },
  {
   "cell_type": "code",
   "execution_count": 20,
   "metadata": {},
   "outputs": [
    {
     "data": {
      "application/vnd.jupyter.widget-view+json": {
       "model_id": "27c5c6c43a6c47838390d65deb65ceff",
       "version_major": 2,
       "version_minor": 0
      },
      "text/plain": [
       "Figure(layout=FigureLayout(height='420px'))"
      ]
     },
     "metadata": {},
     "output_type": "display_data"
    }
   ],
   "source": [
    "locations=df[[\"Lat\",\"Lng\"]]\n",
    "fig=gmaps.figure()\n",
    "heat_layer=gmaps.heatmap_layer(locations,weights=df.Humidity,dissipating=False,max_intensity=100,point_radius=3)\n",
    "fig.add_layer(heat_layer)\n",
    "fig"
   ]
  },
  {
   "cell_type": "code",
   "execution_count": 21,
   "metadata": {},
   "outputs": [],
   "source": [
    "#Convert \"max temp\" from K to F:\n",
    "df[\"Max Temp\"]=df[\"Max Temp\"]*1.8-459.67\n"
   ]
  },
  {
   "cell_type": "markdown",
   "metadata": {},
   "source": [
    "### Create new DataFrame fitting weather criteria\n",
    "* Narrow down the cities to fit weather conditions.\n",
    "* Drop any rows will null values."
   ]
  },
  {
   "cell_type": "code",
   "execution_count": 37,
   "metadata": {
    "scrolled": true
   },
   "outputs": [
    {
     "data": {
      "text/html": [
       "<div>\n",
       "<style scoped>\n",
       "    .dataframe tbody tr th:only-of-type {\n",
       "        vertical-align: middle;\n",
       "    }\n",
       "\n",
       "    .dataframe tbody tr th {\n",
       "        vertical-align: top;\n",
       "    }\n",
       "\n",
       "    .dataframe thead th {\n",
       "        text-align: right;\n",
       "    }\n",
       "</style>\n",
       "<table border=\"1\" class=\"dataframe\">\n",
       "  <thead>\n",
       "    <tr style=\"text-align: right;\">\n",
       "      <th></th>\n",
       "      <th>City</th>\n",
       "      <th>Cloudiness</th>\n",
       "      <th>Country</th>\n",
       "      <th>Date</th>\n",
       "      <th>Humidity</th>\n",
       "      <th>Lat</th>\n",
       "      <th>Lng</th>\n",
       "      <th>Max Temp</th>\n",
       "      <th>Wind Speed</th>\n",
       "    </tr>\n",
       "  </thead>\n",
       "  <tbody>\n",
       "    <tr>\n",
       "      <td>0</td>\n",
       "      <td>hermanus</td>\n",
       "      <td>0.0</td>\n",
       "      <td>ZA</td>\n",
       "      <td>1.584896e+09</td>\n",
       "      <td>78.0</td>\n",
       "      <td>-34.42</td>\n",
       "      <td>19.23</td>\n",
       "      <td>69.998</td>\n",
       "      <td>0.89</td>\n",
       "    </tr>\n",
       "    <tr>\n",
       "      <td>1</td>\n",
       "      <td>geraldton</td>\n",
       "      <td>0.0</td>\n",
       "      <td>AU</td>\n",
       "      <td>1.584896e+09</td>\n",
       "      <td>44.0</td>\n",
       "      <td>-28.77</td>\n",
       "      <td>114.60</td>\n",
       "      <td>78.800</td>\n",
       "      <td>3.60</td>\n",
       "    </tr>\n",
       "    <tr>\n",
       "      <td>2</td>\n",
       "      <td>rahimatpur</td>\n",
       "      <td>0.0</td>\n",
       "      <td>IN</td>\n",
       "      <td>1.584896e+09</td>\n",
       "      <td>40.0</td>\n",
       "      <td>17.60</td>\n",
       "      <td>74.20</td>\n",
       "      <td>71.150</td>\n",
       "      <td>2.08</td>\n",
       "    </tr>\n",
       "    <tr>\n",
       "      <td>3</td>\n",
       "      <td>mount isa</td>\n",
       "      <td>0.0</td>\n",
       "      <td>AU</td>\n",
       "      <td>1.584896e+09</td>\n",
       "      <td>53.0</td>\n",
       "      <td>-20.73</td>\n",
       "      <td>139.50</td>\n",
       "      <td>75.200</td>\n",
       "      <td>4.85</td>\n",
       "    </tr>\n",
       "    <tr>\n",
       "      <td>4</td>\n",
       "      <td>waddan</td>\n",
       "      <td>0.0</td>\n",
       "      <td>LY</td>\n",
       "      <td>1.584896e+09</td>\n",
       "      <td>22.0</td>\n",
       "      <td>29.16</td>\n",
       "      <td>16.14</td>\n",
       "      <td>75.650</td>\n",
       "      <td>3.83</td>\n",
       "    </tr>\n",
       "  </tbody>\n",
       "</table>\n",
       "</div>"
      ],
      "text/plain": [
       "         City  Cloudiness Country          Date  Humidity    Lat     Lng  \\\n",
       "0    hermanus         0.0      ZA  1.584896e+09      78.0 -34.42   19.23   \n",
       "1   geraldton         0.0      AU  1.584896e+09      44.0 -28.77  114.60   \n",
       "2  rahimatpur         0.0      IN  1.584896e+09      40.0  17.60   74.20   \n",
       "3   mount isa         0.0      AU  1.584896e+09      53.0 -20.73  139.50   \n",
       "4      waddan         0.0      LY  1.584896e+09      22.0  29.16   16.14   \n",
       "\n",
       "   Max Temp  Wind Speed  \n",
       "0    69.998        0.89  \n",
       "1    78.800        3.60  \n",
       "2    71.150        2.08  \n",
       "3    75.200        4.85  \n",
       "4    75.650        3.83  "
      ]
     },
     "execution_count": 37,
     "metadata": {},
     "output_type": "execute_result"
    }
   ],
   "source": [
    "hotel_df=df.loc[(df[\"Max Temp\"]<80) & (df[\"Cloudiness\"]==0) & (df[\"Wind Speed\"]<5)\n",
    "               & (df[\"Max Temp\"]>60) &(df[\"Humidity\"]<80)]\n",
    "hotel_df=hotel_df.dropna(how='any')\n",
    "hotel_df=hotel_df.reset_index(drop=True)\n",
    "hotel_df.head()"
   ]
  },
  {
   "cell_type": "markdown",
   "metadata": {},
   "source": [
    "### Hotel Map\n",
    "* Store into variable named `hotel_df`.\n",
    "* Add a \"Hotel Name\" column to the DataFrame.\n",
    "* Set parameters to search for hotels with 5000 meters.\n",
    "* Hit the Google Places API for each city's coordinates.\n",
    "* Store the first Hotel result into the DataFrame.\n",
    "* Plot markers on top of the heatmap."
   ]
  },
  {
   "cell_type": "code",
   "execution_count": 38,
   "metadata": {},
   "outputs": [],
   "source": [
    "#Add \"Hotel Name\" column to the DataFrame:\n",
    "hotel_df[\"Hotel Name\"]=\"\""
   ]
  },
  {
   "cell_type": "code",
   "execution_count": 39,
   "metadata": {},
   "outputs": [],
   "source": [
    "lat=hotel_df[\"Lat\"]\n",
    "lng=hotel_df[\"Lng\"]"
   ]
  },
  {
   "cell_type": "code",
   "execution_count": 40,
   "metadata": {},
   "outputs": [],
   "source": [
    "#Set base url and parameters:\n",
    "base_url=\"https://maps.googleapis.com/maps/api/place/nearbysearch/json\"\n",
    "params={\n",
    "    \"radius\":5000,\n",
    "    \"type\":\"hotel\",\n",
    "    \"key\":g_key}\n"
   ]
  },
  {
   "cell_type": "code",
   "execution_count": 41,
   "metadata": {},
   "outputs": [],
   "source": [
    "# use iterrows to iterate through pandas dataframe\n",
    "for index, row in hotel_df.iterrows():\n",
    "    lat = row[\"Lat\"]\n",
    "    lng = row[\"Lng\"]\n",
    "    params[\"location\"]=f\"{lat},{lng}\"   \n",
    "    base_url = \"https://maps.googleapis.com/maps/api/place/nearbysearch/json\"\n",
    "    url=requests.get(base_url,params=params).json()\n",
    "    try:\n",
    "        hotel_df.loc[index,'Hotel Name']=url[\"results\"][1][\"name\"]\n",
    "    except (KeyError,IndexError):\n",
    "        print(\"Missing field/result... skipping.\")\n"
   ]
  },
  {
   "cell_type": "code",
   "execution_count": 42,
   "metadata": {},
   "outputs": [
    {
     "data": {
      "text/html": [
       "<div>\n",
       "<style scoped>\n",
       "    .dataframe tbody tr th:only-of-type {\n",
       "        vertical-align: middle;\n",
       "    }\n",
       "\n",
       "    .dataframe tbody tr th {\n",
       "        vertical-align: top;\n",
       "    }\n",
       "\n",
       "    .dataframe thead th {\n",
       "        text-align: right;\n",
       "    }\n",
       "</style>\n",
       "<table border=\"1\" class=\"dataframe\">\n",
       "  <thead>\n",
       "    <tr style=\"text-align: right;\">\n",
       "      <th></th>\n",
       "      <th>City</th>\n",
       "      <th>Cloudiness</th>\n",
       "      <th>Country</th>\n",
       "      <th>Date</th>\n",
       "      <th>Humidity</th>\n",
       "      <th>Lat</th>\n",
       "      <th>Lng</th>\n",
       "      <th>Max Temp</th>\n",
       "      <th>Wind Speed</th>\n",
       "      <th>Hotel Name</th>\n",
       "    </tr>\n",
       "  </thead>\n",
       "  <tbody>\n",
       "    <tr>\n",
       "      <td>0</td>\n",
       "      <td>hermanus</td>\n",
       "      <td>0.0</td>\n",
       "      <td>ZA</td>\n",
       "      <td>1.584896e+09</td>\n",
       "      <td>78.0</td>\n",
       "      <td>-34.42</td>\n",
       "      <td>19.23</td>\n",
       "      <td>69.998</td>\n",
       "      <td>0.89</td>\n",
       "      <td>Misty Waves Boutique Hotel</td>\n",
       "    </tr>\n",
       "    <tr>\n",
       "      <td>1</td>\n",
       "      <td>geraldton</td>\n",
       "      <td>0.0</td>\n",
       "      <td>AU</td>\n",
       "      <td>1.584896e+09</td>\n",
       "      <td>44.0</td>\n",
       "      <td>-28.77</td>\n",
       "      <td>114.60</td>\n",
       "      <td>78.800</td>\n",
       "      <td>3.60</td>\n",
       "      <td>Broadwater Mariner Resort</td>\n",
       "    </tr>\n",
       "    <tr>\n",
       "      <td>2</td>\n",
       "      <td>rahimatpur</td>\n",
       "      <td>0.0</td>\n",
       "      <td>IN</td>\n",
       "      <td>1.584896e+09</td>\n",
       "      <td>40.0</td>\n",
       "      <td>17.60</td>\n",
       "      <td>74.20</td>\n",
       "      <td>71.150</td>\n",
       "      <td>2.08</td>\n",
       "      <td>State Bank Of India</td>\n",
       "    </tr>\n",
       "    <tr>\n",
       "      <td>3</td>\n",
       "      <td>mount isa</td>\n",
       "      <td>0.0</td>\n",
       "      <td>AU</td>\n",
       "      <td>1.584896e+09</td>\n",
       "      <td>53.0</td>\n",
       "      <td>-20.73</td>\n",
       "      <td>139.50</td>\n",
       "      <td>75.200</td>\n",
       "      <td>4.85</td>\n",
       "      <td>ibis Styles Mt Isa Verona</td>\n",
       "    </tr>\n",
       "    <tr>\n",
       "      <td>4</td>\n",
       "      <td>waddan</td>\n",
       "      <td>0.0</td>\n",
       "      <td>LY</td>\n",
       "      <td>1.584896e+09</td>\n",
       "      <td>22.0</td>\n",
       "      <td>29.16</td>\n",
       "      <td>16.14</td>\n",
       "      <td>75.650</td>\n",
       "      <td>3.83</td>\n",
       "      <td>Alternative (Authorized agent for the company'...</td>\n",
       "    </tr>\n",
       "  </tbody>\n",
       "</table>\n",
       "</div>"
      ],
      "text/plain": [
       "         City  Cloudiness Country          Date  Humidity    Lat     Lng  \\\n",
       "0    hermanus         0.0      ZA  1.584896e+09      78.0 -34.42   19.23   \n",
       "1   geraldton         0.0      AU  1.584896e+09      44.0 -28.77  114.60   \n",
       "2  rahimatpur         0.0      IN  1.584896e+09      40.0  17.60   74.20   \n",
       "3   mount isa         0.0      AU  1.584896e+09      53.0 -20.73  139.50   \n",
       "4      waddan         0.0      LY  1.584896e+09      22.0  29.16   16.14   \n",
       "\n",
       "   Max Temp  Wind Speed                                         Hotel Name  \n",
       "0    69.998        0.89                         Misty Waves Boutique Hotel  \n",
       "1    78.800        3.60                          Broadwater Mariner Resort  \n",
       "2    71.150        2.08                                State Bank Of India  \n",
       "3    75.200        4.85                          ibis Styles Mt Isa Verona  \n",
       "4    75.650        3.83  Alternative (Authorized agent for the company'...  "
      ]
     },
     "execution_count": 42,
     "metadata": {},
     "output_type": "execute_result"
    }
   ],
   "source": [
    "hotel_df.head()"
   ]
  },
  {
   "cell_type": "code",
   "execution_count": 43,
   "metadata": {},
   "outputs": [],
   "source": [
    "# NOTE: Do not change any of the code in this cell\n",
    "\n",
    "# Using the template add the hotel marks to the heatmap\n",
    "info_box_template = \"\"\"\n",
    "<dl>\n",
    "<dt>Name</dt><dd>{Hotel Name}</dd>\n",
    "<dt>City</dt><dd>{City}</dd>\n",
    "<dt>Country</dt><dd>{Country}</dd>\n",
    "</dl>\n",
    "\"\"\"\n",
    "# Store the DataFrame Row\n",
    "# NOTE: be sure to update with your DataFrame name\n",
    "hotel_info=[info_box_template.format(**row) for index, row in hotel_df.iterrows()]\n",
    "locations=hotel_df[[\"Lat\", \"Lng\"]]"
   ]
  },
  {
   "cell_type": "code",
   "execution_count": 44,
   "metadata": {},
   "outputs": [],
   "source": [
    "# Add marker layer ontop of heat map\n",
    "hotel_layer = gmaps.symbol_layer(locations,\n",
    "                                 info_box_content=[info_box_template.format(**row) for index, row in hotel_df.iterrows()])\n",
    "\n",
    "# Create heat layer\n",
    "fig = gmaps.figure()\n",
    "fig.add_layer(heat_layer)\n",
    "fig.add_layer(hotel_layer)\n",
    "\n",
    "\n",
    "# Display Map"
   ]
  },
  {
   "cell_type": "code",
   "execution_count": 45,
   "metadata": {
    "scrolled": true
   },
   "outputs": [
    {
     "data": {
      "application/vnd.jupyter.widget-view+json": {
       "model_id": "cdfa98b1a7dc4dc8a93d939469d74a60",
       "version_major": 2,
       "version_minor": 0
      },
      "text/plain": [
       "Figure(layout=FigureLayout(height='420px'))"
      ]
     },
     "metadata": {},
     "output_type": "display_data"
    }
   ],
   "source": [
    "fig"
   ]
  },
  {
   "cell_type": "code",
   "execution_count": null,
   "metadata": {},
   "outputs": [],
   "source": []
  }
 ],
 "metadata": {
  "kernelspec": {
   "display_name": "Python 3",
   "language": "python",
   "name": "python3"
  },
  "language_info": {
   "codemirror_mode": {
    "name": "ipython",
    "version": 3
   },
   "file_extension": ".py",
   "mimetype": "text/x-python",
   "name": "python",
   "nbconvert_exporter": "python",
   "pygments_lexer": "ipython3",
   "version": "3.7.4"
  },
  "latex_envs": {
   "LaTeX_envs_menu_present": true,
   "autoclose": false,
   "autocomplete": true,
   "bibliofile": "biblio.bib",
   "cite_by": "apalike",
   "current_citInitial": 1,
   "eqLabelWithNumbers": true,
   "eqNumInitial": 1,
   "hotkeys": {
    "equation": "Ctrl-E",
    "itemize": "Ctrl-I"
   },
   "labels_anchors": false,
   "latex_user_defs": false,
   "report_style_numbering": false,
   "user_envs_cfg": false
  }
 },
 "nbformat": 4,
 "nbformat_minor": 2
}
